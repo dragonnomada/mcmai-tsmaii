{
 "cells": [
  {
   "cell_type": "markdown",
   "id": "a2e3cde1",
   "metadata": {},
   "source": [
    "# Tarea 2\n",
    "\n",
    "#### Tópicos Selectos De Matemáticas Aplicadas II: Análisis de Datos con Python\n",
    "\n",
    "Fecha de entrega: Domingo 15 de junio \n",
    "\n",
    "Alan Badillo Salas"
   ]
  },
  {
   "cell_type": "markdown",
   "id": "3d22614d",
   "metadata": {},
   "source": [
    "**1.** Dada la siguiente lista de vectores en $\\mathbb{R}^3$:\n",
    "\n",
    "```text\n",
    "vectores = { [0, 1, 0], [1, 1, 0], [1, 2, 3], [-1, 0, 1], [0, 0, 1], [-1, 1, 0], [2, 1, 1], [3, 0.5, -1] }\n",
    "```\n",
    "\n",
    "escriba una función que calcule el **ángulo** que cada uno de estos vectores forma con respecto al vector fijo $\\mathbf{a} = [1, 0, 0]$, y muestre únicamente aquellos vectores cuyo ángulo sea mayor a $80^\\circ$, junto con el valor correspondiente del ángulo (en grados).\n",
    "\n",
    "\n"
   ]
  },
  {
   "cell_type": "code",
   "execution_count": 2,
   "id": "2523c5ff",
   "metadata": {},
   "outputs": [],
   "source": [
    "import numpy\n",
    "\n",
    "def angulo(u, a = [1, 0, 0]):\n",
    "    a = numpy.array(a)\n",
    "    u = numpy.array(u)\n",
    "    na = a.dot(a)\n",
    "    nu = u.dot(u)\n",
    "    return numpy.degrees(numpy.acos(a.dot(u) / (na * nu)))"
   ]
  },
  {
   "cell_type": "code",
   "execution_count": 25,
   "id": "fb287279",
   "metadata": {},
   "outputs": [
    {
     "name": "stdout",
     "output_type": "stream",
     "text": [
      "( 0,  1,  0) |  90.00°\n",
      "( 1,  2,  3) |  85.90°\n",
      "(-1,  0,  1) | 120.00°\n",
      "( 0,  0,  1) |  90.00°\n",
      "(-1,  1,  0) | 120.00°\n"
     ]
    }
   ],
   "source": [
    "vectores = [\n",
    "    [0, 1, 0],\n",
    "    [1, 1, 0],\n",
    "    [1, 2, 3],\n",
    "    [-1, 0, 1],\n",
    "    [0, 0, 1],\n",
    "    [-1, 1, 0],\n",
    "    [2, 1, 1],\n",
    "    [3, 0.5, -1],\n",
    "]\n",
    "\n",
    "for vec in vectores:\n",
    "    t = angulo(vec)\n",
    "\n",
    "    if t >= 80:\n",
    "        print(f\"({', '.join([f'{x:2.0f}' for x in vec])}) | {t:6.2f}°\")"
   ]
  },
  {
   "cell_type": "markdown",
   "id": "3c91749c",
   "metadata": {},
   "source": [
    "**2.** Sea la siguiente función definida por partes:\n",
    "\n",
    "$$\n",
    "f(x, y) =\n",
    "\\begin{cases}\n",
    "\\sin(x^2 + y^2), & \\text{si } x^2 + y^2 \\leq 4 \\\\\n",
    "\\cos(x - y), & \\text{si } 4 < x^2 + y^2 < 12  \\\\\n",
    "-1, & \\text{si }   12 \\leq x^2 + y^2\n",
    "\\end{cases}\n",
    "$$\n",
    "\n",
    "Visualice la función en el dominio $ [-6, 6] \\times [-6, 6] $ utilizando `plt.imshow()`.\n"
   ]
  },
  {
   "cell_type": "code",
   "execution_count": 42,
   "id": "26c1252f",
   "metadata": {},
   "outputs": [
    {
     "data": {
      "text/plain": [
       "(array([[-6. , -3.6, -1.2,  1.2,  3.6,  6. ],\n",
       "        [-6. , -3.6, -1.2,  1.2,  3.6,  6. ],\n",
       "        [-6. , -3.6, -1.2,  1.2,  3.6,  6. ],\n",
       "        [-6. , -3.6, -1.2,  1.2,  3.6,  6. ],\n",
       "        [-6. , -3.6, -1.2,  1.2,  3.6,  6. ],\n",
       "        [-6. , -3.6, -1.2,  1.2,  3.6,  6. ]]),\n",
       " array([[-6. , -6. , -6. , -6. , -6. , -6. ],\n",
       "        [-3.6, -3.6, -3.6, -3.6, -3.6, -3.6],\n",
       "        [-1.2, -1.2, -1.2, -1.2, -1.2, -1.2],\n",
       "        [ 1.2,  1.2,  1.2,  1.2,  1.2,  1.2],\n",
       "        [ 3.6,  3.6,  3.6,  3.6,  3.6,  3.6],\n",
       "        [ 6. ,  6. ,  6. ,  6. ,  6. ,  6. ]]))"
      ]
     },
     "execution_count": 42,
     "metadata": {},
     "output_type": "execute_result"
    }
   ],
   "source": [
    "x = numpy.linspace(-6, 6, 6)\n",
    "y = numpy.linspace(-6, 6, 6)\n",
    "\n",
    "X, Y = numpy.meshgrid(x, y)\n",
    "\n",
    "X, Y"
   ]
  },
  {
   "cell_type": "code",
   "execution_count": 43,
   "id": "974ac23d",
   "metadata": {},
   "outputs": [
    {
     "data": {
      "text/plain": [
       "array([[72.  , 48.96, 37.44, 37.44, 48.96, 72.  ],\n",
       "       [48.96, 25.92, 14.4 , 14.4 , 25.92, 48.96],\n",
       "       [37.44, 14.4 ,  2.88,  2.88, 14.4 , 37.44],\n",
       "       [37.44, 14.4 ,  2.88,  2.88, 14.4 , 37.44],\n",
       "       [48.96, 25.92, 14.4 , 14.4 , 25.92, 48.96],\n",
       "       [72.  , 48.96, 37.44, 37.44, 48.96, 72.  ]])"
      ]
     },
     "execution_count": 43,
     "metadata": {},
     "output_type": "execute_result"
    }
   ],
   "source": [
    "R = X ** 2 + Y ** 2\n",
    "\n",
    "R"
   ]
  },
  {
   "cell_type": "code",
   "execution_count": 53,
   "id": "59b8c10d",
   "metadata": {},
   "outputs": [
    {
     "data": {
      "text/plain": [
       "array([[False, False, False, False, False, False],\n",
       "       [False, False, False, False, False, False],\n",
       "       [False, False,  True,  True, False, False],\n",
       "       [False, False,  True,  True, False, False],\n",
       "       [False, False, False, False, False, False],\n",
       "       [False, False, False, False, False, False]])"
      ]
     },
     "execution_count": 53,
     "metadata": {},
     "output_type": "execute_result"
    }
   ],
   "source": [
    "R <= 4"
   ]
  },
  {
   "cell_type": "code",
   "execution_count": 54,
   "id": "e1ebe7a7",
   "metadata": {},
   "outputs": [
    {
     "data": {
      "text/plain": [
       "array([[0, 0, 0, 0, 0, 0],\n",
       "       [0, 0, 0, 0, 0, 0],\n",
       "       [0, 0, 1, 1, 0, 0],\n",
       "       [0, 0, 1, 1, 0, 0],\n",
       "       [0, 0, 0, 0, 0, 0],\n",
       "       [0, 0, 0, 0, 0, 0]])"
      ]
     },
     "execution_count": 54,
     "metadata": {},
     "output_type": "execute_result"
    }
   ],
   "source": [
    "(R <= 4) * 1"
   ]
  },
  {
   "cell_type": "code",
   "execution_count": 59,
   "id": "10952865",
   "metadata": {},
   "outputs": [
    {
     "data": {
      "text/plain": [
       "array([[ 0.   , -0.   , -0.   , -0.   , -0.   ,  0.   ],\n",
       "       [-0.   ,  0.   ,  0.   ,  0.   ,  0.   , -0.   ],\n",
       "       [-0.   ,  0.   ,  0.259,  0.259,  0.   , -0.   ],\n",
       "       [-0.   ,  0.   ,  0.259,  0.259,  0.   , -0.   ],\n",
       "       [-0.   ,  0.   ,  0.   ,  0.   ,  0.   , -0.   ],\n",
       "       [ 0.   , -0.   , -0.   , -0.   , -0.   ,  0.   ]])"
      ]
     },
     "execution_count": 59,
     "metadata": {},
     "output_type": "execute_result"
    }
   ],
   "source": [
    "(R <= 4) * numpy.sin(R).round(3)"
   ]
  },
  {
   "cell_type": "code",
   "execution_count": 64,
   "id": "a23e1351",
   "metadata": {},
   "outputs": [
    {
     "data": {
      "text/plain": [
       "array([[-1.   , -1.   , -1.   , -1.   , -1.   , -1.   ],\n",
       "       [-1.   , -1.   , -1.   , -1.   , -1.   , -1.   ],\n",
       "       [-1.   , -1.   ,  0.259,  0.259, -1.   , -1.   ],\n",
       "       [-1.   , -1.   ,  0.259,  0.259, -1.   , -1.   ],\n",
       "       [-1.   , -1.   , -1.   , -1.   , -1.   , -1.   ],\n",
       "       [-1.   , -1.   , -1.   , -1.   , -1.   , -1.   ]])"
      ]
     },
     "execution_count": 64,
     "metadata": {},
     "output_type": "execute_result"
    }
   ],
   "source": [
    "Z = R * 0\n",
    "Z += (R <= 4) * numpy.sin(R)\n",
    "Z += ((R > 4) & (R < 12)) * numpy.cos(X - Y)\n",
    "Z += (12 <= R) * (-1)\n",
    "\n",
    "Z.round(3)"
   ]
  },
  {
   "cell_type": "code",
   "execution_count": 66,
   "id": "eb9998f5",
   "metadata": {},
   "outputs": [
    {
     "data": {
      "text/plain": [
       "<matplotlib.image.AxesImage at 0x115bc7950>"
      ]
     },
     "execution_count": 66,
     "metadata": {},
     "output_type": "execute_result"
    },
    {
     "data": {
      "image/png": "[encoded data removed]",
      "text/plain": [
       "<Figure size 640x480 with 1 Axes>"
      ]
     },
     "metadata": {},
     "output_type": "display_data"
    }
   ],
   "source": [
    "import matplotlib.pyplot as pyplot\n",
    "\n",
    "x = numpy.linspace(-6, 6, 20)\n",
    "y = numpy.linspace(-6, 6, 20)\n",
    "\n",
    "X, Y = numpy.meshgrid(x, y)\n",
    "\n",
    "R = X ** 2 + Y ** 2\n",
    "\n",
    "Z = R * 0\n",
    "Z += (R <= 4) * numpy.sin(R)\n",
    "Z += ((R > 4) & (R < 12)) * numpy.cos(X - Y)\n",
    "Z += (12 <= R) * (-1)\n",
    "\n",
    "pyplot.imshow(Z)"
   ]
  },
  {
   "cell_type": "code",
   "execution_count": 67,
   "id": "0f18aa75",
   "metadata": {},
   "outputs": [
    {
     "data": {
      "text/plain": [
       "<matplotlib.image.AxesImage at 0x1151234d0>"
      ]
     },
     "execution_count": 67,
     "metadata": {},
     "output_type": "execute_result"
    },
    {
     "data": {
      "image/png": "[encoded data removed]",
      "text/plain": [
       "<Figure size 640x480 with 1 Axes>"
      ]
     },
     "metadata": {},
     "output_type": "display_data"
    }
   ],
   "source": [
    "import matplotlib.pyplot as pyplot\n",
    "\n",
    "x = numpy.linspace(-6, 6, 100)\n",
    "y = numpy.linspace(-6, 6, 100)\n",
    "\n",
    "X, Y = numpy.meshgrid(x, y)\n",
    "\n",
    "R = X ** 2 + Y ** 2\n",
    "\n",
    "Z = R * 0\n",
    "Z += (R <= 4) * numpy.sin(R)\n",
    "Z += ((R > 4) & (R < 12)) * numpy.cos(X - Y)\n",
    "Z += (12 <= R) * (-1)\n",
    "\n",
    "pyplot.imshow(Z)"
   ]
  },
  {
   "cell_type": "markdown",
   "id": "5f99e244-ebbd-4cc5-907b-f0683471519d",
   "metadata": {},
   "source": [
    "**3.** Resuelva el siguiente sistema de ecuaciones lineales:\n",
    "\n",
    "$$\n",
    "\\begin{aligned}\n",
    "2x_1 - x_2 + 3x_3 + x_4 - x_5 &= 7 \\\\\n",
    "x_1 + 2x_2 - x_3 + 2x_4 + x_5 &= 4 \\\\\n",
    "3x_1 - x_2 + x_3 - x_4 + 2x_5 &= 10 \\\\\n",
    "x_1 + x_2 + x_3 + x_4 + x_5 &= 5 \\\\\n",
    "-2x_1 + 4x_2 + x_3 - 3x_4 + x_5 &= 0\n",
    "\\end{aligned}\n",
    "$$\n",
    "\n",
    "1. Resuelva el sistema.\n",
    "\n",
    "2. Verifique la solución sustituyéndola en la ecuación original y evaluando $\\| A \\mathbf{x} - \\mathbf{b} \\|$.\n"
   ]
  },
  {
   "cell_type": "code",
   "execution_count": 68,
   "id": "d18b5f31",
   "metadata": {},
   "outputs": [
    {
     "data": {
      "text/plain": [
       "(array([[ 2, -1,  3,  1, -1],\n",
       "        [ 1,  2, -1,  2,  1],\n",
       "        [ 3, -1,  1, -1,  2],\n",
       "        [ 1,  1,  1,  1,  1],\n",
       "        [-2,  4,  1, -3,  1]]),\n",
       " array([ 7,  4, 10,  5,  0]))"
      ]
     },
     "execution_count": 68,
     "metadata": {},
     "output_type": "execute_result"
    }
   ],
   "source": [
    "A = numpy.array([\n",
    "    [ 2, -1,  3,  1, -1],\n",
    "    [ 1,  2, -1,  2,  1],\n",
    "    [ 3, -1,  1, -1,  2],\n",
    "    [ 1,  1,  1,  1,  1],\n",
    "    [-2,  4,  1, -3,  1],\n",
    "])\n",
    "\n",
    "b = numpy.array([\n",
    "    7, \n",
    "    4, \n",
    "    10, \n",
    "    5, \n",
    "    0\n",
    "])\n",
    "\n",
    "A, b"
   ]
  },
  {
   "cell_type": "code",
   "execution_count": 75,
   "id": "3976dcc7",
   "metadata": {},
   "outputs": [
    {
     "data": {
      "text/plain": [
       "array([ 3.03448276,  1.        ,  0.86206897, -0.27586207,  0.37931034])"
      ]
     },
     "execution_count": 75,
     "metadata": {},
     "output_type": "execute_result"
    }
   ],
   "source": [
    "x = numpy.linalg.inv(A).dot(b)\n",
    "\n",
    "x"
   ]
  },
  {
   "cell_type": "code",
   "execution_count": 85,
   "id": "f145279f",
   "metadata": {},
   "outputs": [
    {
     "name": "stdout",
     "output_type": "stream",
     "text": [
      "x1 =  3.03448276\n",
      "x2 =  1.00000000\n",
      "x3 =  0.86206897\n",
      "x4 = -0.27586207\n",
      "x5 =  0.37931034\n"
     ]
    }
   ],
   "source": [
    "for i in range(len(A)):\n",
    "    B = A.copy()\n",
    "\n",
    "    B[:, i] = b\n",
    "\n",
    "    xi = numpy.linalg.det(B) / numpy.linalg.det(A)\n",
    "\n",
    "    print(f\"x{i + 1} = {xi:11.8f}\")"
   ]
  },
  {
   "cell_type": "markdown",
   "id": "f083ac0e-d446-4108-91bf-405556ed51d8",
   "metadata": {},
   "source": [
    "**4.** Genera un array de 400 números aleatorios con distribución normal de media 10 y desviación estándar 2. \n",
    "\n",
    "- Calcula la media y desviación estándar de la muestra.\n",
    "\n",
    "- ¿Cuántos valores están entre 8 y 12?"
   ]
  },
  {
   "cell_type": "code",
   "execution_count": 96,
   "id": "8984eec1",
   "metadata": {},
   "outputs": [
    {
     "name": "stdout",
     "output_type": "stream",
     "text": [
      "x = [13.29341634  9.49770122  6.72190712] ... [ 9.53059329 14.22561822 12.04152874]\n",
      "media      : 10.048053120840368\n",
      "desviación : 2.0811410979828766\n"
     ]
    }
   ],
   "source": [
    "x = numpy.random.normal(10, 2, 400)\n",
    "\n",
    "print(f\"x = {x[:3]} ... {x[-3:]}\")\n",
    "\n",
    "print(f\"media      : {x.mean()}\")\n",
    "print(f\"desviación : {x.std()}\")"
   ]
  },
  {
   "cell_type": "code",
   "execution_count": 97,
   "id": "a61d050f",
   "metadata": {},
   "outputs": [
    {
     "name": "stdout",
     "output_type": "stream",
     "text": [
      "|8 <= x <= 12| = 275 (68.75%)\n"
     ]
    }
   ],
   "source": [
    "total = ((x >= 8) & (x <= 12)).sum()\n",
    "\n",
    "print(f\"|8 <= x <= 12| = {total} ({100 * total / 400:.2f}%)\")"
   ]
  },
  {
   "cell_type": "markdown",
   "id": "0304ca0e-12a6-4c86-bcb2-ecd378a413c8",
   "metadata": {},
   "source": [
    "**5.** Simula una muestra de 200 observaciones donde cada valor puede ser 'A', 'B' o 'C' con probabilidades 0.5, 0.3 y 0.2, respectivamente (np.random.choice). Cuenta cuántas veces ocurre cada categoría."
   ]
  },
  {
   "cell_type": "code",
   "execution_count": 105,
   "id": "44653fd1",
   "metadata": {},
   "outputs": [
    {
     "name": "stdout",
     "output_type": "stream",
     "text": [
      "x = ['A' 'C' 'A'] ... ['A' 'B' 'A']\n"
     ]
    }
   ],
   "source": [
    "cat = [\"A\", \"B\", \"C\"]\n",
    "\n",
    "x = numpy.random.choice(cat, p=[0.5, 0.3, 0.2], size=200)\n",
    "\n",
    "print(f\"x = {x[:3]} ... {x[-3:]}\")"
   ]
  },
  {
   "cell_type": "code",
   "execution_count": 108,
   "id": "7c733111",
   "metadata": {},
   "outputs": [
    {
     "name": "stdout",
     "output_type": "stream",
     "text": [
      "A: 112 (56.0%)\n",
      "B: 53 (26.5%)\n",
      "C: 35 (17.5%)\n"
     ]
    }
   ],
   "source": [
    "for c in cat:\n",
    "    total = (x == c).sum()\n",
    "    print(f\"{c}: {total} ({100 * total / 200:.1f}%)\")"
   ]
  },
  {
   "cell_type": "markdown",
   "id": "dfa19dca-7d9f-4c5f-9999-b180b4d09f9b",
   "metadata": {},
   "source": [
    "**6.** Genera una señal base (por ejemplo, todos 100) y agrégale ruido gaussiano con desviación 5.\n",
    "\n",
    "- Grafica la señal ruidosa.\n",
    "\n",
    "- Calcula el error medio cuadrático con respecto a la señal original:\n",
    "\n",
    "$$\n",
    "\\text{RMSE} = \\sqrt{ \\frac{1}{n} \\sum_{i=1}^n (y_i - \\hat{y}_i)^2 }\n",
    "$$\n",
    "\n",
    "Donde:\n",
    "- $y_i$ son los valores de la señal base,\n",
    "- $\\hat{y}_i$ son los valores de la señal ruidosa,\n",
    "- $n$ es el número total de observaciones."
   ]
  },
  {
   "cell_type": "code",
   "execution_count": 141,
   "id": "5889b159",
   "metadata": {},
   "outputs": [
    {
     "name": "stdout",
     "output_type": "stream",
     "text": [
      "y = [100. 100. 100.] ... [100. 100. 100.]\n",
      "yp = [ 94.03121373 108.03524829 102.57290729] ... [109.16251603 102.8492013   89.37277578]\n"
     ]
    }
   ],
   "source": [
    "n = 200\n",
    "\n",
    "y = numpy.ones(n) * 100\n",
    "\n",
    "yp = y.copy()\n",
    "\n",
    "for i in range(n):\n",
    "    yp[i] += numpy.random.normal(0, 5, 1)[0]\n",
    "\n",
    "print(f\"y = {y[:3]} ... {y[-3:]}\")\n",
    "print(f\"yp = {yp[:3]} ... {yp[-3:]}\")"
   ]
  },
  {
   "cell_type": "code",
   "execution_count": 142,
   "id": "edaa268f",
   "metadata": {},
   "outputs": [
    {
     "data": {
      "text/plain": [
       "(80.0, 120.0)"
      ]
     },
     "execution_count": 142,
     "metadata": {},
     "output_type": "execute_result"
    },
    {
     "data": {
      "image/png": "[encoded data removed]",
      "text/plain": [
       "<Figure size 640x480 with 1 Axes>"
      ]
     },
     "metadata": {},
     "output_type": "display_data"
    }
   ],
   "source": [
    "pyplot.plot(y)\n",
    "pyplot.plot(yp)\n",
    "pyplot.ylim(y.min() - 20, y.max() + 20)"
   ]
  },
  {
   "cell_type": "code",
   "execution_count": 148,
   "id": "a0e91697",
   "metadata": {},
   "outputs": [
    {
     "name": "stdout",
     "output_type": "stream",
     "text": [
      "RMSE: 5.001866\n"
     ]
    }
   ],
   "source": [
    "RMSE = (((y - yp) ** 2).sum() / n) ** 0.5\n",
    "\n",
    "print(f\"RMSE: {RMSE:.6f}\")"
   ]
  },
  {
   "cell_type": "code",
   "execution_count": 149,
   "id": "229bfcf1",
   "metadata": {},
   "outputs": [
    {
     "name": "stdout",
     "output_type": "stream",
     "text": [
      "y = [-1.22464680e-14 -3.15685498e+00 -6.31056313e+00] ... [6.31056313e+00 3.15685498e+00 1.22464680e-14]\n",
      "yp = [ 6.29206401 -8.8599563  -0.80068193] ... [ 6.98639091  2.22134927 -0.63479369]\n",
      "RMSE: 4.867467\n"
     ]
    },
    {
     "data": {
      "image/png": "[encoded data removed]",
      "text/plain": [
       "<Figure size 640x480 with 1 Axes>"
      ]
     },
     "metadata": {},
     "output_type": "display_data"
    }
   ],
   "source": [
    "n = 200\n",
    "\n",
    "x = numpy.linspace(-numpy.pi, numpy.pi, n)\n",
    "\n",
    "y = numpy.sin(x) * 100\n",
    "\n",
    "yp = y.copy()\n",
    "\n",
    "for i in range(n):\n",
    "    yp[i] += numpy.random.normal(0, 5, 1)[0]\n",
    "\n",
    "print(f\"y = {y[:3]} ... {y[-3:]}\")\n",
    "print(f\"yp = {yp[:3]} ... {yp[-3:]}\")\n",
    "\n",
    "pyplot.plot(y)\n",
    "pyplot.plot(yp)\n",
    "pyplot.ylim(y.min() - 20, y.max() + 20)\n",
    "\n",
    "RMSE = (((y - yp) ** 2).sum() / n) ** 0.5\n",
    "\n",
    "print(f\"RMSE: {RMSE:.6f}\")"
   ]
  },
  {
   "cell_type": "markdown",
   "id": "c875a428-b23d-45dd-9fe2-03162f0f70f2",
   "metadata": {},
   "source": [
    "**7.** Dada la siguiente lista:\n",
    "\n",
    "```python\n",
    "cadenas = [\n",
    "    '  juan*perez!!', 'ana#LOPEZ? ', 'm@rio@@gomez', 'luis* #MORA%%', 'carla!!méndóza ',\n",
    "    'PEDRO?ROSALES###', 'sofia*#cano ', 'miguel//torres', 'lucia #ramirez:', ' josé+fernández  ',\n",
    "    ' camila#RUIZ', 'marco*antonio&', 'isaBel!!GARZA', '#roberto flores* ', ' emiLIA?Reyes!',\n",
    "    'DANIEL* #Martinez', '  andrés#s@las', '*pablo TORO/', ' yeSEnIa!lópez ', 'elena#morales?',\n",
    "    'Nicolás*rodríguez', ' carmen?LUNA:', 'Rosa#*AVILA', 'oscar?*pineda;', 'alejandra!ríos+',\n",
    "    'IGNACIO#HERRERA  ', ' sergio*MENDOZA', 'tomás#ramírez=', 'ANDREA!MORENO?', '#manuel ortíz ',\n",
    "    'cristina*FLORES@', ' arturo#valdez;', 'LAURA*méndez', 'mariana?*ibarra!', ' esteban#quiroz ',\n",
    "    'valeria!CASTILLO', 'renata#DE la cruz', 'fernando*?Vega:', 'irma!ZAPATA%', 'francisco#romero ',\n",
    "    'alicia*Lara=', 'liliana#MENDEZ&', 'matías*#galván;', '#ricardo!Ríos', ' catalina*ALVARADO%',\n",
    "    'gustavo!morales+', 'natalia#VILLARREAL:', 'andréa*páez;', '  Ramón*salinas!', ' david#molina '\n",
    "]\n",
    "```\n",
    "\n",
    "1. Limpie la lista 'cadenas'\n",
    "2. Obtenga 50 etiquetas con el código: `[f'id_{i:03}' for i in range(1, 51)]`\n",
    "3. Obtenga un objeto Series con la lista 'cadenas' indexado con las etiquetas obtenidas. \n"
   ]
  },
  {
   "cell_type": "code",
   "execution_count": 150,
   "id": "23823eef-eab9-45b5-b724-d25d3c85812a",
   "metadata": {},
   "outputs": [],
   "source": [
    "cadenas = [\n",
    "    '  juan*perez!!', 'ana#LOPEZ? ', 'm@rio@@gomez', 'luis* #MORA%%', 'carla!!méndóza ',\n",
    "    'PEDRO?ROSALES###', 'sofia*#cano ', 'miguel//torres', 'lucia #ramirez:', ' josé+fernández  ',\n",
    "    ' camila#RUIZ', 'marco*antonio&', 'isaBel!!GARZA', '#roberto flores* ', ' emiLIA?Reyes!',\n",
    "    'DANIEL* #Martinez', '  andrés#s@las', '*pablo TORO/', ' yeSEnIa!lópez ', 'elena#morales?',\n",
    "    'Nicolás*rodríguez', ' carmen?LUNA:', 'Rosa#*AVILA', 'oscar?*pineda;', 'alejandra!ríos+',\n",
    "    'IGNACIO#HERRERA  ', ' sergio*MENDOZA', 'tomás#ramírez=', 'ANDREA!MORENO?', '#manuel ortíz ',\n",
    "    'cristina*FLORES@', ' arturo#valdez;', 'LAURA*méndez', 'mariana?*ibarra!', ' esteban#quiroz ',\n",
    "    'valeria!CASTILLO', 'renata#DE la cruz', 'fernando*?Vega:', 'irma!ZAPATA%', 'francisco#romero ',\n",
    "    'alicia*Lara=', 'liliana#MENDEZ&', 'matías*#galván;', '#ricardo!Ríos', ' catalina*ALVARADO%',\n",
    "    'gustavo!morales+', 'natalia#VILLARREAL:', 'andréa*páez;', '  Ramón*salinas!', ' david#molina '\n",
    "]"
   ]
  },
  {
   "cell_type": "code",
   "execution_count": 169,
   "id": "bd3f4d06",
   "metadata": {},
   "outputs": [
    {
     "data": {
      "text/plain": [
       "array(['Juan Perez', 'Ana Lopez', 'Mario Gomez', 'Luis Mora',\n",
       "       'Carla Méndóza', 'Pedro Rosales', 'Sofia Cano', 'Miguel Torres',\n",
       "       'Lucia Ramirez', 'José Fernández', 'Camila Ruiz', 'Marco Antonio',\n",
       "       'Isabel Garza', 'Roberto Flores', 'Emilia Reyes',\n",
       "       'Daniel Martinez', 'Andrés S Las', 'Pablo Toro', 'Yesenia López',\n",
       "       'Elena Morales', 'Nicolás Rodríguez', 'Carmen Luna', 'Rosa Avila',\n",
       "       'Oscar Pineda', 'Alejandra Ríos', 'Ignacio Herrera',\n",
       "       'Sergio Mendoza', 'Tomás Ramírez', 'Andrea Moreno', 'Manuel Ortíz',\n",
       "       'Cristina Flores', 'Arturo Valdez', 'Laura Méndez',\n",
       "       'Mariana Ibarra', 'Esteban Quiroz', 'Valeria Castillo',\n",
       "       'Renata De La Cruz', 'Fernando Vega', 'Irma Zapata',\n",
       "       'Francisco Romero', 'Alicia Lara', 'Liliana Mendez',\n",
       "       'Matías Galván', 'Ricardo Ríos', 'Catalina Alvarado',\n",
       "       'Gustavo Morales', 'Natalia Villarreal', 'Andréa Páez',\n",
       "       'Ramón Salinas', 'David Molina'], dtype=object)"
      ]
     },
     "execution_count": 169,
     "metadata": {},
     "output_type": "execute_result"
    }
   ],
   "source": [
    "import pandas\n",
    "import re\n",
    "\n",
    "def limpiar(cadena):\n",
    "    cadena = cadena.lower()\n",
    "    cadena = re.sub(\"m@r\", \"mar\", cadena)\n",
    "    cadena = re.sub(\"[^\\\\w]\", \" \", cadena)\n",
    "    cadena = re.sub(\"[ ]+\", \" \", cadena)\n",
    "    cadena = cadena.strip()\n",
    "    cadena = \" \".join([nombre.capitalize() for nombre in cadena.split(\" \")])\n",
    "    return cadena\n",
    "\n",
    "s = pandas.Series(cadenas).map(limpiar)\n",
    "\n",
    "s.values"
   ]
  },
  {
   "cell_type": "code",
   "execution_count": 174,
   "id": "c59bf340",
   "metadata": {},
   "outputs": [
    {
     "data": {
      "text/plain": [
       "id_001            Juan Perez\n",
       "id_002             Ana Lopez\n",
       "id_003           Mario Gomez\n",
       "id_004             Luis Mora\n",
       "id_005         Carla Méndóza\n",
       "id_006         Pedro Rosales\n",
       "id_007            Sofia Cano\n",
       "id_008         Miguel Torres\n",
       "id_009         Lucia Ramirez\n",
       "id_010        José Fernández\n",
       "id_011           Camila Ruiz\n",
       "id_012         Marco Antonio\n",
       "id_013          Isabel Garza\n",
       "id_014        Roberto Flores\n",
       "id_015          Emilia Reyes\n",
       "id_016       Daniel Martinez\n",
       "id_017          Andrés S Las\n",
       "id_018            Pablo Toro\n",
       "id_019         Yesenia López\n",
       "id_020         Elena Morales\n",
       "id_021     Nicolás Rodríguez\n",
       "id_022           Carmen Luna\n",
       "id_023            Rosa Avila\n",
       "id_024          Oscar Pineda\n",
       "id_025        Alejandra Ríos\n",
       "id_026       Ignacio Herrera\n",
       "id_027        Sergio Mendoza\n",
       "id_028         Tomás Ramírez\n",
       "id_029         Andrea Moreno\n",
       "id_030          Manuel Ortíz\n",
       "id_031       Cristina Flores\n",
       "id_032         Arturo Valdez\n",
       "id_033          Laura Méndez\n",
       "id_034        Mariana Ibarra\n",
       "id_035        Esteban Quiroz\n",
       "id_036      Valeria Castillo\n",
       "id_037     Renata De La Cruz\n",
       "id_038         Fernando Vega\n",
       "id_039           Irma Zapata\n",
       "id_040      Francisco Romero\n",
       "id_041           Alicia Lara\n",
       "id_042        Liliana Mendez\n",
       "id_043         Matías Galván\n",
       "id_044          Ricardo Ríos\n",
       "id_045     Catalina Alvarado\n",
       "id_046       Gustavo Morales\n",
       "id_047    Natalia Villarreal\n",
       "id_048           Andréa Páez\n",
       "id_049         Ramón Salinas\n",
       "id_050          David Molina\n",
       "dtype: object"
      ]
     },
     "execution_count": 174,
     "metadata": {},
     "output_type": "execute_result"
    }
   ],
   "source": [
    "s.index = [f\"id_{i:03}\" for i in range(1, 51)]\n",
    "\n",
    "s"
   ]
  }
 ],
 "metadata": {
  "kernelspec": {
   "display_name": "Python 3",
   "language": "python",
   "name": "python3"
  },
  "language_info": {
   "codemirror_mode": {
    "name": "ipython",
    "version": 3
   },
   "file_extension": ".py",
   "mimetype": "text/x-python",
   "name": "python",
   "nbconvert_exporter": "python",
   "pygments_lexer": "ipython3",
   "version": "3.12.4"
  }
 },
 "nbformat": 4,
 "nbformat_minor": 5
}
