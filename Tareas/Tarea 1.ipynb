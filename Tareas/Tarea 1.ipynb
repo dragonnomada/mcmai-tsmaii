{
 "cells": [
  {
   "cell_type": "markdown",
   "id": "ec637b21",
   "metadata": {},
   "source": [
    "# Tarea 1\n",
    "\n",
    "#### Tópicos Selectos De Matemáticas Aplicadas II: Análisis de Datos con Python\n",
    "\n",
    "Fecha de entrega: Viernes 6 de junio \n",
    "\n",
    "Alan Badillo Salas"
   ]
  },
  {
   "cell_type": "markdown",
   "id": "5d0959e5",
   "metadata": {},
   "source": [
    "1. Crea un bucle para obtener el promedio de todos los elementos que se encuentran en las siguientes listas:"
   ]
  },
  {
   "cell_type": "code",
   "execution_count": 49,
   "id": "71ca6354",
   "metadata": {},
   "outputs": [],
   "source": [
    "L1=[7.2,7.8,6.8,8.0,None,'8.2',5.6,8.2,7.7,7.5,None,5.8]\n",
    "L2=['6.8',None,6.8,6.1,7.9,9.4,None]\n",
    "L3=[8.5,'9.0',None,7.7]"
   ]
  },
  {
   "cell_type": "markdown",
   "id": "93f3c05b",
   "metadata": {},
   "source": [
    "Solución:"
   ]
  },
  {
   "cell_type": "markdown",
   "id": "594aa95d",
   "metadata": {},
   "source": [
    "Primero utilizaremos un método tradicional, nos percatamos que algunos valores son `None` y otros son números pero en texto, por lo que hay que ignorar a los valores que sean `None` y convertir aquellos cuyo tipo sea `str`"
   ]
  },
  {
   "cell_type": "code",
   "execution_count": 50,
   "id": "d9fd57ad",
   "metadata": {},
   "outputs": [
    {
     "name": "stdout",
     "output_type": "stream",
     "text": [
      "El promedio de L1 es: 7.45\n"
     ]
    }
   ],
   "source": [
    "suma = 0\n",
    "contador = 0\n",
    "\n",
    "for l in L1:\n",
    "    if l is None:\n",
    "        break\n",
    "    if type(l) == str:\n",
    "        l = float(l)\n",
    "    # en este punto los valores `l` deberían ser números\n",
    "    suma += l\n",
    "    contador += 1\n",
    "\n",
    "promedio1 = suma / contador\n",
    "\n",
    "print(f\"El promedio de L1 es: {promedio1:.2f}\")"
   ]
  },
  {
   "cell_type": "markdown",
   "id": "0bbe4bb5",
   "metadata": {},
   "source": [
    "En un segundo método podemos filtrar los elementos más rápidamente y hacer las conversiones mediante las listas condensadas:\n",
    "\n",
    "Sintaxis:\n",
    "\n",
    "`[<elemento> for <elemento> in <secuencia> if <condición sobre el elemento>]`\n",
    "\n",
    "Esto genera una lista que dispone solo los elementos que cumplen la condición.\n",
    "\n",
    "La ventaja de este segundo método es poder operar la lista completa con los operadores `sum(•)` y `len(•)`"
   ]
  },
  {
   "cell_type": "code",
   "execution_count": 51,
   "id": "a6db2dfe",
   "metadata": {},
   "outputs": [
    {
     "name": "stdout",
     "output_type": "stream",
     "text": [
      "El promedio de L2 es: 7.40\n"
     ]
    }
   ],
   "source": [
    "# Filtramos los elementos que no son `None` y los reconvertimos a `float`\n",
    "L2_corregida = [float(l) for l in L2 if not l is None]\n",
    "\n",
    "promedio2 = sum(L2_corregida) / len(L2_corregida)\n",
    "\n",
    "print(f\"El promedio de L2 es: {promedio2:.2f}\")"
   ]
  },
  {
   "cell_type": "markdown",
   "id": "0bde823c",
   "metadata": {},
   "source": [
    "Una forma aún más compacta es usar la librería de Pandas para limpiar los datos y operarlos directamente.\n",
    "\n",
    "Esto nos proporciona métodos estadísticos fundamentales para describir el eje de datos y con un código más compacto:\n",
    "\n",
    "* `<serie>.dropna()` - Eliminamos los valores nulos\n",
    "* `<serie>.astype()` - Reconvertimos los datos a `float`\n",
    "* `<serie>.mean()` - Obtiene la media del eje de datos\n",
    "* `<serie>.describe()` - Resume los estadísticos principales"
   ]
  },
  {
   "cell_type": "code",
   "execution_count": 52,
   "id": "f5301ba8",
   "metadata": {},
   "outputs": [
    {
     "data": {
      "text/plain": [
       "count    3.000000\n",
       "mean     8.400000\n",
       "std      0.655744\n",
       "min      7.700000\n",
       "25%      8.100000\n",
       "50%      8.500000\n",
       "75%      8.750000\n",
       "max      9.000000\n",
       "dtype: float64"
      ]
     },
     "execution_count": 52,
     "metadata": {},
     "output_type": "execute_result"
    }
   ],
   "source": [
    "import pandas\n",
    "\n",
    "S3 = pandas.Series(L3).dropna().astype(float)\n",
    "\n",
    "S3.describe()"
   ]
  },
  {
   "cell_type": "markdown",
   "id": "350d0a6a",
   "metadata": {},
   "source": [
    "2. Crea un bucle que divida en 3 listas del mismo tamaño a los elementos de las listas anteriores ordenados de menor a mayor."
   ]
  },
  {
   "cell_type": "markdown",
   "id": "bf9fe157",
   "metadata": {},
   "source": [
    "Para este proceso usaremos el método de pivote que consiste en calcular los índices donde se hará el corte de las listas, para luego rebanar las listas mediante la subselección de índices:\n",
    "\n",
    "* `<lista>[i:j+1]` - Devuelve los elementos del índice `i` al `j`\n",
    "* `<lista>[:a]` - Devuelve los elementos del índice `0` al `a - 1`\n",
    "* `<lista>[b:]` - Devuelve los elementos del índice `b` al último\n",
    "* `<lista>[a:b]` - Devuelve los elementos entre los índices `[a, b)` excluyéndolos\n",
    "\n",
    "Por lo que, nuestro objetivo es encontrar los índices `a` y `b` para cada lista y aplicar los cortes `[0, a)`, `[a, b)` y `[b, N]` donde `N` es el tamaño de la lista o dejarlo en blanco para que se calcule solo"
   ]
  },
  {
   "cell_type": "code",
   "execution_count": 53,
   "id": "7f67309a",
   "metadata": {},
   "outputs": [
    {
     "name": "stdout",
     "output_type": "stream",
     "text": [
      "Lista original: [7.2, 7.8, 6.8, 8.0, None, '8.2', 5.6, 8.2, 7.7, 7.5, None, 5.8]\n",
      "------------------------------------------------------------------------------------------\n",
      "Lista partida:  [7.2, 7.8, 6.8, 8.0] [None, '8.2', 5.6, 8.2] [7.7, 7.5, None, 5.8]\n",
      "\n",
      "\n",
      "Lista original: ['6.8', None, 6.8, 6.1, 7.9, 9.4, None]\n",
      "------------------------------------------------------------------------------------------\n",
      "Lista partida:  ['6.8', None] [6.8, 6.1, 7.9] [9.4, None]\n",
      "\n",
      "\n",
      "Lista original: [8.5, '9.0', None, 7.7]\n",
      "------------------------------------------------------------------------------------------\n",
      "Lista partida:  [8.5] ['9.0', None] [7.7]\n",
      "\n",
      "\n"
     ]
    }
   ],
   "source": [
    "from math import floor, ceil\n",
    "\n",
    "# Recorremos cada lista\n",
    "for L in [L1, L2, L3]:\n",
    "    N = len(L) # Tamaño de la lista\n",
    "    a = floor(N / 3) # Pivote inferior\n",
    "    b = ceil((2 * N) / 3) # Pivote superior\n",
    "    L_inferior = L[0:a]\n",
    "    L_medio = L[a:b]\n",
    "    L_superior = L[b:]\n",
    "\n",
    "    print(\"Lista original:\", L)\n",
    "    print(\"-\" * 90)\n",
    "    print(\"Lista partida: \", L_inferior, L_medio, L_superior)\n",
    "    \n",
    "    print(end=\"\\n\\n\")"
   ]
  },
  {
   "cell_type": "markdown",
   "id": "ecb4dc27",
   "metadata": {},
   "source": [
    "Nota: Observamos que si la puede cargarse con más elementos al centro"
   ]
  },
  {
   "cell_type": "markdown",
   "id": "7562b33b",
   "metadata": {},
   "source": [
    "3. Crea una código que reciba del usuario nueve elementos de una matriz cuadrada de 3x3 y que retorne el determinante de la matriz."
   ]
  },
  {
   "cell_type": "markdown",
   "id": "bed61c9d",
   "metadata": {},
   "source": [
    "Para este problema podemos capturar los 9 elementos uno a uno o de 3 en 3 separados por espacios"
   ]
  },
  {
   "cell_type": "code",
   "execution_count": 54,
   "id": "4e970b69",
   "metadata": {},
   "outputs": [
    {
     "data": {
      "text/plain": [
       "[[1.0, 2.0, 3.0], [4.0, 5.0, 6.0], [7.0, 8.0, 9.0]]"
      ]
     },
     "execution_count": 54,
     "metadata": {},
     "output_type": "execute_result"
    }
   ],
   "source": [
    "matriz = []\n",
    "\n",
    "for fila in range(3):\n",
    "    vectorFila = []\n",
    "    for columna in range(3):\n",
    "        elemento = float(input(f\"Ingresa la posición ({fila}, {columna})\"))\n",
    "        vectorFila.append(elemento)\n",
    "    matriz.append(vectorFila)\n",
    "\n",
    "matriz\n"
   ]
  },
  {
   "cell_type": "markdown",
   "id": "e5c73998",
   "metadata": {},
   "source": [
    "Mejora usando la librería `Pandas` y la lectura de `3` en `3`"
   ]
  },
  {
   "cell_type": "code",
   "execution_count": 55,
   "id": "07407de1",
   "metadata": {},
   "outputs": [
    {
     "data": {
      "text/html": [
       "<div>\n",
       "<style scoped>\n",
       "    .dataframe tbody tr th:only-of-type {\n",
       "        vertical-align: middle;\n",
       "    }\n",
       "\n",
       "    .dataframe tbody tr th {\n",
       "        vertical-align: top;\n",
       "    }\n",
       "\n",
       "    .dataframe thead th {\n",
       "        text-align: right;\n",
       "    }\n",
       "</style>\n",
       "<table border=\"1\" class=\"dataframe\">\n",
       "  <thead>\n",
       "    <tr style=\"text-align: right;\">\n",
       "      <th></th>\n",
       "      <th>0</th>\n",
       "      <th>1</th>\n",
       "      <th>2</th>\n",
       "    </tr>\n",
       "  </thead>\n",
       "  <tbody>\n",
       "    <tr>\n",
       "      <th>0</th>\n",
       "      <td>1.0</td>\n",
       "      <td>2.0</td>\n",
       "      <td>3.0</td>\n",
       "    </tr>\n",
       "    <tr>\n",
       "      <th>1</th>\n",
       "      <td>4.0</td>\n",
       "      <td>5.0</td>\n",
       "      <td>6.0</td>\n",
       "    </tr>\n",
       "    <tr>\n",
       "      <th>2</th>\n",
       "      <td>7.0</td>\n",
       "      <td>8.0</td>\n",
       "      <td>9.0</td>\n",
       "    </tr>\n",
       "  </tbody>\n",
       "</table>\n",
       "</div>"
      ],
      "text/plain": [
       "     0    1    2\n",
       "0  1.0  2.0  3.0\n",
       "1  4.0  5.0  6.0\n",
       "2  7.0  8.0  9.0"
      ]
     },
     "execution_count": 55,
     "metadata": {},
     "output_type": "execute_result"
    }
   ],
   "source": [
    "import pandas\n",
    "\n",
    "A = pandas.DataFrame([ \n",
    "    (input(f\"Línea {i} (3 valores separados por espacio simple):\").split(\" \")) \\\n",
    "        for i in range(3)\n",
    "]).astype(float)\n",
    "\n",
    "A"
   ]
  },
  {
   "cell_type": "markdown",
   "id": "b5a87269-0b3b-4ac4-911d-d4d7b8de8642",
   "metadata": {},
   "source": [
    "4. Crea un código que reciba una cadena de caracteres y arroje la respuesta de si es un estado ó una capital del país."
   ]
  },
  {
   "cell_type": "markdown",
   "id": "30927ab0",
   "metadata": {},
   "source": [
    "Para poder decidir si un texto es un estado o una capital, debemos establecer cuales son los estados y cuales las capitales, esta información la podemos disponer en un CSV para tomarlas como listas y luego recorrerlas buscando el texto objetivo.\n",
    "\n",
    "Debemos considerar que la busqueda ingresada por el usuario podría no coincidir con las de las listas en caracteres especiales o mayúsculas y minúsculas."
   ]
  },
  {
   "cell_type": "code",
   "execution_count": 56,
   "id": "68f8c896",
   "metadata": {},
   "outputs": [
    {
     "data": {
      "text/html": [
       "<div>\n",
       "<style scoped>\n",
       "    .dataframe tbody tr th:only-of-type {\n",
       "        vertical-align: middle;\n",
       "    }\n",
       "\n",
       "    .dataframe tbody tr th {\n",
       "        vertical-align: top;\n",
       "    }\n",
       "\n",
       "    .dataframe thead th {\n",
       "        text-align: right;\n",
       "    }\n",
       "</style>\n",
       "<table border=\"1\" class=\"dataframe\">\n",
       "  <thead>\n",
       "    <tr style=\"text-align: right;\">\n",
       "      <th></th>\n",
       "      <th>Entidad Federativa</th>\n",
       "      <th>Capital</th>\n",
       "      <th>Municipio Capital</th>\n",
       "    </tr>\n",
       "  </thead>\n",
       "  <tbody>\n",
       "    <tr>\n",
       "      <th>0</th>\n",
       "      <td>Aguascalientes</td>\n",
       "      <td>Aguascalientes</td>\n",
       "      <td>Aguascalientes</td>\n",
       "    </tr>\n",
       "    <tr>\n",
       "      <th>1</th>\n",
       "      <td>Baja California</td>\n",
       "      <td>Mexicali</td>\n",
       "      <td>Mexicali</td>\n",
       "    </tr>\n",
       "    <tr>\n",
       "      <th>2</th>\n",
       "      <td>Baja California Sur</td>\n",
       "      <td>La Paz</td>\n",
       "      <td>La Paz</td>\n",
       "    </tr>\n",
       "    <tr>\n",
       "      <th>3</th>\n",
       "      <td>Campeche</td>\n",
       "      <td>San Francisco Campeche</td>\n",
       "      <td>Campeche</td>\n",
       "    </tr>\n",
       "    <tr>\n",
       "      <th>4</th>\n",
       "      <td>Chiapas</td>\n",
       "      <td>Tuxtla Gutiérrez</td>\n",
       "      <td>Tuxtla Gutiérrez</td>\n",
       "    </tr>\n",
       "    <tr>\n",
       "      <th>5</th>\n",
       "      <td>Chihuahua</td>\n",
       "      <td>Chihuahua</td>\n",
       "      <td>Chihuahua</td>\n",
       "    </tr>\n",
       "    <tr>\n",
       "      <th>6</th>\n",
       "      <td>Ciudad de México</td>\n",
       "      <td>Ciudad de México</td>\n",
       "      <td>Ciudad de México</td>\n",
       "    </tr>\n",
       "    <tr>\n",
       "      <th>7</th>\n",
       "      <td>Coahuila</td>\n",
       "      <td>Saltillo</td>\n",
       "      <td>Saltillo</td>\n",
       "    </tr>\n",
       "    <tr>\n",
       "      <th>8</th>\n",
       "      <td>Colima</td>\n",
       "      <td>Colima</td>\n",
       "      <td>Colima</td>\n",
       "    </tr>\n",
       "    <tr>\n",
       "      <th>9</th>\n",
       "      <td>Durango</td>\n",
       "      <td>Durango</td>\n",
       "      <td>Durango</td>\n",
       "    </tr>\n",
       "    <tr>\n",
       "      <th>10</th>\n",
       "      <td>Guanajuato</td>\n",
       "      <td>Guanajuato</td>\n",
       "      <td>Guanajuato</td>\n",
       "    </tr>\n",
       "    <tr>\n",
       "      <th>11</th>\n",
       "      <td>Guerrero</td>\n",
       "      <td>Chilpancingo</td>\n",
       "      <td>Chilpancingo de los Bravo</td>\n",
       "    </tr>\n",
       "    <tr>\n",
       "      <th>12</th>\n",
       "      <td>Hidalgo</td>\n",
       "      <td>Pachuca</td>\n",
       "      <td>Pachuca de Soto</td>\n",
       "    </tr>\n",
       "    <tr>\n",
       "      <th>13</th>\n",
       "      <td>Jalisco</td>\n",
       "      <td>Guadalajara</td>\n",
       "      <td>Guadalajara</td>\n",
       "    </tr>\n",
       "    <tr>\n",
       "      <th>14</th>\n",
       "      <td>México</td>\n",
       "      <td>Toluca</td>\n",
       "      <td>Toluca</td>\n",
       "    </tr>\n",
       "    <tr>\n",
       "      <th>15</th>\n",
       "      <td>Michoacán</td>\n",
       "      <td>Morelia</td>\n",
       "      <td>Morelia</td>\n",
       "    </tr>\n",
       "    <tr>\n",
       "      <th>16</th>\n",
       "      <td>Morelos</td>\n",
       "      <td>Cuernavaca</td>\n",
       "      <td>Cuernavaca</td>\n",
       "    </tr>\n",
       "    <tr>\n",
       "      <th>17</th>\n",
       "      <td>Nayarit</td>\n",
       "      <td>Tepic</td>\n",
       "      <td>Tepic</td>\n",
       "    </tr>\n",
       "    <tr>\n",
       "      <th>18</th>\n",
       "      <td>Nuevo León</td>\n",
       "      <td>Monterrey</td>\n",
       "      <td>Monterrey</td>\n",
       "    </tr>\n",
       "    <tr>\n",
       "      <th>19</th>\n",
       "      <td>Oaxaca</td>\n",
       "      <td>Oaxaca de Juárez</td>\n",
       "      <td>Oaxaca de Juárez</td>\n",
       "    </tr>\n",
       "    <tr>\n",
       "      <th>20</th>\n",
       "      <td>Puebla</td>\n",
       "      <td>Puebla</td>\n",
       "      <td>Puebla</td>\n",
       "    </tr>\n",
       "    <tr>\n",
       "      <th>21</th>\n",
       "      <td>Querétaro</td>\n",
       "      <td>Querétaro</td>\n",
       "      <td>Querétaro</td>\n",
       "    </tr>\n",
       "    <tr>\n",
       "      <th>22</th>\n",
       "      <td>Quintana Roo</td>\n",
       "      <td>Chetumal</td>\n",
       "      <td>Othón P. Blanco</td>\n",
       "    </tr>\n",
       "    <tr>\n",
       "      <th>23</th>\n",
       "      <td>San Luis Potosí</td>\n",
       "      <td>San Luis Potosí</td>\n",
       "      <td>San Luis Potosí</td>\n",
       "    </tr>\n",
       "    <tr>\n",
       "      <th>24</th>\n",
       "      <td>Sinaloa</td>\n",
       "      <td>Culiacán</td>\n",
       "      <td>Culiacán</td>\n",
       "    </tr>\n",
       "    <tr>\n",
       "      <th>25</th>\n",
       "      <td>Sonora</td>\n",
       "      <td>Hermosillo</td>\n",
       "      <td>Hermosillo</td>\n",
       "    </tr>\n",
       "    <tr>\n",
       "      <th>26</th>\n",
       "      <td>Tabasco</td>\n",
       "      <td>Villahermosa</td>\n",
       "      <td>Centro</td>\n",
       "    </tr>\n",
       "    <tr>\n",
       "      <th>27</th>\n",
       "      <td>Tamaulipas</td>\n",
       "      <td>Ciudad Victoria</td>\n",
       "      <td>Victoria</td>\n",
       "    </tr>\n",
       "    <tr>\n",
       "      <th>28</th>\n",
       "      <td>Tlaxcala</td>\n",
       "      <td>Tlaxcala</td>\n",
       "      <td>Tlaxcala</td>\n",
       "    </tr>\n",
       "    <tr>\n",
       "      <th>29</th>\n",
       "      <td>Veracruz</td>\n",
       "      <td>Xalapa</td>\n",
       "      <td>Xalapa</td>\n",
       "    </tr>\n",
       "    <tr>\n",
       "      <th>30</th>\n",
       "      <td>Yucatán</td>\n",
       "      <td>Mérida</td>\n",
       "      <td>Mérida</td>\n",
       "    </tr>\n",
       "    <tr>\n",
       "      <th>31</th>\n",
       "      <td>Zacatecas</td>\n",
       "      <td>Zacatecas</td>\n",
       "      <td>Zacatecas</td>\n",
       "    </tr>\n",
       "  </tbody>\n",
       "</table>\n",
       "</div>"
      ],
      "text/plain": [
       "     Entidad Federativa                 Capital          Municipio Capital\n",
       "0        Aguascalientes          Aguascalientes             Aguascalientes\n",
       "1       Baja California                Mexicali                   Mexicali\n",
       "2   Baja California Sur                  La Paz                     La Paz\n",
       "3              Campeche  San Francisco Campeche                   Campeche\n",
       "4               Chiapas        Tuxtla Gutiérrez           Tuxtla Gutiérrez\n",
       "5             Chihuahua               Chihuahua                  Chihuahua\n",
       "6      Ciudad de México        Ciudad de México           Ciudad de México\n",
       "7              Coahuila                Saltillo                   Saltillo\n",
       "8                Colima                  Colima                     Colima\n",
       "9               Durango                 Durango                    Durango\n",
       "10           Guanajuato              Guanajuato                 Guanajuato\n",
       "11             Guerrero            Chilpancingo  Chilpancingo de los Bravo\n",
       "12              Hidalgo                 Pachuca            Pachuca de Soto\n",
       "13              Jalisco             Guadalajara                Guadalajara\n",
       "14               México                  Toluca                     Toluca\n",
       "15            Michoacán                 Morelia                    Morelia\n",
       "16              Morelos              Cuernavaca                 Cuernavaca\n",
       "17              Nayarit                   Tepic                      Tepic\n",
       "18           Nuevo León               Monterrey                  Monterrey\n",
       "19               Oaxaca        Oaxaca de Juárez           Oaxaca de Juárez\n",
       "20               Puebla                  Puebla                     Puebla\n",
       "21            Querétaro               Querétaro                  Querétaro\n",
       "22         Quintana Roo                Chetumal            Othón P. Blanco\n",
       "23      San Luis Potosí         San Luis Potosí            San Luis Potosí\n",
       "24              Sinaloa                Culiacán                   Culiacán\n",
       "25               Sonora              Hermosillo                 Hermosillo\n",
       "26              Tabasco            Villahermosa                     Centro\n",
       "27           Tamaulipas         Ciudad Victoria                   Victoria\n",
       "28             Tlaxcala                Tlaxcala                   Tlaxcala\n",
       "29             Veracruz                  Xalapa                     Xalapa\n",
       "30              Yucatán                  Mérida                     Mérida\n",
       "31            Zacatecas               Zacatecas                  Zacatecas"
      ]
     },
     "execution_count": 56,
     "metadata": {},
     "output_type": "execute_result"
    }
   ],
   "source": [
    "import pandas\n",
    "\n",
    "entidades_capitales = pandas.read_csv(\"estados_capitales.csv\")\n",
    "\n",
    "entidades_capitales"
   ]
  },
  {
   "cell_type": "code",
   "execution_count": 57,
   "id": "73d36265",
   "metadata": {},
   "outputs": [
    {
     "data": {
      "text/plain": [
       "['Aguascalientes',\n",
       " 'Baja California',\n",
       " 'Baja California Sur',\n",
       " 'Campeche',\n",
       " 'Chiapas',\n",
       " 'Chihuahua',\n",
       " 'Ciudad de México',\n",
       " 'Coahuila',\n",
       " 'Colima',\n",
       " 'Durango',\n",
       " 'Guanajuato',\n",
       " 'Guerrero',\n",
       " 'Hidalgo',\n",
       " 'Jalisco',\n",
       " 'México',\n",
       " 'Michoacán',\n",
       " 'Morelos',\n",
       " 'Nayarit',\n",
       " 'Nuevo León',\n",
       " 'Oaxaca',\n",
       " 'Puebla',\n",
       " 'Querétaro',\n",
       " 'Quintana Roo',\n",
       " 'San Luis Potosí',\n",
       " 'Sinaloa',\n",
       " 'Sonora',\n",
       " 'Tabasco',\n",
       " 'Tamaulipas',\n",
       " 'Tlaxcala',\n",
       " 'Veracruz',\n",
       " 'Yucatán',\n",
       " 'Zacatecas']"
      ]
     },
     "execution_count": 57,
     "metadata": {},
     "output_type": "execute_result"
    }
   ],
   "source": [
    "estados = list(entidades_capitales[\"Entidad Federativa\"].values)\n",
    "\n",
    "estados"
   ]
  },
  {
   "cell_type": "code",
   "execution_count": 58,
   "id": "3595c8f1",
   "metadata": {},
   "outputs": [
    {
     "data": {
      "text/plain": [
       "['Aguascalientes',\n",
       " 'Mexicali',\n",
       " 'La Paz',\n",
       " 'San Francisco Campeche',\n",
       " 'Tuxtla Gutiérrez',\n",
       " 'Chihuahua',\n",
       " 'Ciudad de México',\n",
       " 'Saltillo',\n",
       " 'Colima',\n",
       " 'Durango',\n",
       " 'Guanajuato',\n",
       " 'Chilpancingo',\n",
       " 'Pachuca',\n",
       " 'Guadalajara',\n",
       " 'Toluca',\n",
       " 'Morelia',\n",
       " 'Cuernavaca',\n",
       " 'Tepic',\n",
       " 'Monterrey',\n",
       " 'Oaxaca de Juárez',\n",
       " 'Puebla',\n",
       " 'Querétaro',\n",
       " 'Chetumal',\n",
       " 'San Luis Potosí',\n",
       " 'Culiacán',\n",
       " 'Hermosillo',\n",
       " 'Villahermosa',\n",
       " 'Ciudad Victoria',\n",
       " 'Tlaxcala',\n",
       " 'Xalapa',\n",
       " 'Mérida',\n",
       " 'Zacatecas']"
      ]
     },
     "execution_count": 58,
     "metadata": {},
     "output_type": "execute_result"
    }
   ],
   "source": [
    "capitales = list(entidades_capitales[\"Capital\"].values)\n",
    "\n",
    "capitales"
   ]
  },
  {
   "cell_type": "markdown",
   "id": "b870364a",
   "metadata": {},
   "source": [
    "Ahora que tenemos las listas de estados y capitales podemos hacer la búqueda"
   ]
  },
  {
   "cell_type": "code",
   "execution_count": 59,
   "id": "44564d7e",
   "metadata": {},
   "outputs": [
    {
     "name": "stdout",
     "output_type": "stream",
     "text": [
      "Se encontró al estado Aguascalientes mediante la búsqueda <aguas>\n",
      "Se encontró al capital Aguascalientes mediante la búsqueda <aguas>\n"
     ]
    }
   ],
   "source": [
    "busqueda = input(\"Ingresa el estado o la capital\")\n",
    "\n",
    "busquedaOriginal = busqueda\n",
    "\n",
    "# Para mejorar la búsqueda podemos quitar espacios y acentos:\n",
    "busqueda = busqueda.replace(\" \", \"\")\n",
    "busqueda = busqueda.replace(\"á\", \"a\")\n",
    "busqueda = busqueda.replace(\"é\", \"e\")\n",
    "busqueda = busqueda.replace(\"í\", \"i\")\n",
    "busqueda = busqueda.replace(\"ó\", \"o\")\n",
    "busqueda = busqueda.replace(\"ú\", \"u\")\n",
    "# Tambien convertimos a minúsculas\n",
    "busqueda = busqueda.lower()\n",
    "\n",
    "# Ahora recorremos los estados y capitales\n",
    "for estado, capital in zip(estados, capitales):\n",
    "    # Aplicamos la misma limpieza\n",
    "\n",
    "    estadoOriginal = estado\n",
    "\n",
    "    estado = estado.replace(\" \", \"\")\n",
    "    estado = estado.replace(\"á\", \"a\")\n",
    "    estado = estado.replace(\"é\", \"e\")\n",
    "    estado = estado.replace(\"í\", \"i\")\n",
    "    estado = estado.replace(\"ó\", \"o\")\n",
    "    estado = estado.replace(\"ú\", \"u\")\n",
    "    estado = estado.lower()\n",
    "\n",
    "    capitalOriginal = capital\n",
    "    \n",
    "    capital = capital.replace(\" \", \"\")\n",
    "    capital = capital.replace(\"á\", \"a\")\n",
    "    capital = capital.replace(\"é\", \"e\")\n",
    "    capital = capital.replace(\"í\", \"i\")\n",
    "    capital = capital.replace(\"ó\", \"o\")\n",
    "    capital = capital.replace(\"ú\", \"u\")\n",
    "    capital = capital.lower()\n",
    "\n",
    "    if estado.startswith(busqueda) or busqueda.startswith(estado):\n",
    "        print(f\"Se encontró al estado {estadoOriginal} mediante la búsqueda <{busqueda}>\")\n",
    "    \n",
    "    if capital.startswith(busqueda) or busqueda.startswith(capital):\n",
    "        print(f\"Se encontró al capital {estadoOriginal} mediante la búsqueda <{busqueda}>\")"
   ]
  },
  {
   "cell_type": "markdown",
   "id": "9888c165-5c0e-4114-8bfb-c632db32b2b4",
   "metadata": {},
   "source": [
    "5. Pide al usuario dos listas de números reales (misma longitud) y calcula su producto escalar usando un bucle for."
   ]
  },
  {
   "cell_type": "code",
   "execution_count": 60,
   "id": "f89bad03",
   "metadata": {},
   "outputs": [
    {
     "name": "stdout",
     "output_type": "stream",
     "text": [
      "[1.0, 2.0, 3.0]\n",
      "[4.0, 5.0, 6.0]\n",
      "El producto punto es: 32.00\n"
     ]
    }
   ],
   "source": [
    "N = int(input(\"Ingresa el tamaño de las listas:\"))\n",
    "\n",
    "lista1 = [float(input(f\"Ingresa el elemento {i + 1} / {N} de la lista 1:\")) for i in range(N)]\n",
    "lista2 = [float(input(f\"Ingresa el elemento {i + 1} / {N} de la lista 2:\")) for i in range(N)]\n",
    "\n",
    "suma = 0\n",
    "\n",
    "for x1, x2 in zip(lista1, lista2):\n",
    "    suma += x1 * x2\n",
    "\n",
    "print(lista1)\n",
    "print(lista2)\n",
    "print(f\"El producto punto es: {suma:.2f}\")"
   ]
  },
  {
   "cell_type": "markdown",
   "id": "92861119-3d42-4fbd-9d33-d16ea96a26a7",
   "metadata": {},
   "source": [
    "6. Utiliza un bucle while True para pedir números al usuario y agregarlos a una lista. Cuando la suma total de los elementos sea mayor a 100, el programa debe detenerse y mostrar la lista y la suma final."
   ]
  },
  {
   "cell_type": "code",
   "execution_count": 61,
   "id": "0fa7494b",
   "metadata": {},
   "outputs": [
    {
     "name": "stdout",
     "output_type": "stream",
     "text": [
      "[17.0, 23.0, 43.0, 23.0]\n",
      "106.0\n"
     ]
    }
   ],
   "source": [
    "lista = []\n",
    "\n",
    "while True:\n",
    "    x = float(input(\"Ingresa un número\"))\n",
    "    lista.append(x)\n",
    "    if sum(lista) > 100:\n",
    "        break\n",
    "\n",
    "print(lista)\n",
    "print(sum(lista))"
   ]
  },
  {
   "cell_type": "markdown",
   "id": "0563af40-1025-4976-a8ea-88dafac2a408",
   "metadata": {},
   "source": [
    "7. Crea una lista vacía y presenta al usuario un menú como este dentro de un while True:"
   ]
  },
  {
   "cell_type": "code",
   "execution_count": 62,
   "id": "cbd657b6-42e5-466b-9921-8acff0b4e93f",
   "metadata": {},
   "outputs": [
    {
     "name": "stdout",
     "output_type": "stream",
     "text": [
      "\n",
      "Menú:\n",
      "1. Agregar número\n",
      "2. Mostrar lista\n",
      "3. Salir\n",
      "La opción seleccionada es: 12\n",
      "La opción no es válida\n",
      "\n",
      "\n",
      "Menú:\n",
      "1. Agregar número\n",
      "2. Mostrar lista\n",
      "3. Salir\n",
      "La opción seleccionada es: 1\n",
      "Se añadió el elemento: 1.0\n",
      "\n",
      "\n",
      "Menú:\n",
      "1. Agregar número\n",
      "2. Mostrar lista\n",
      "3. Salir\n",
      "La opción seleccionada es: 1\n",
      "Se añadió el elemento: 34.0\n",
      "\n",
      "\n",
      "Menú:\n",
      "1. Agregar número\n",
      "2. Mostrar lista\n",
      "3. Salir\n",
      "La opción seleccionada es: 1\n",
      "Se añadió el elemento: 23.0\n",
      "\n",
      "\n",
      "Menú:\n",
      "1. Agregar número\n",
      "2. Mostrar lista\n",
      "3. Salir\n",
      "La opción seleccionada es: 5\n",
      "La opción no es válida\n",
      "\n",
      "\n",
      "Menú:\n",
      "1. Agregar número\n",
      "2. Mostrar lista\n",
      "3. Salir\n",
      "La opción seleccionada es: 2\n",
      "[1.0, 34.0, 23.0]\n",
      "\n",
      "\n",
      "Menú:\n",
      "1. Agregar número\n",
      "2. Mostrar lista\n",
      "3. Salir\n",
      "La opción seleccionada es: 1\n",
      "Se añadió el elemento: 34.0\n",
      "\n",
      "\n",
      "Menú:\n",
      "1. Agregar número\n",
      "2. Mostrar lista\n",
      "3. Salir\n",
      "La opción seleccionada es: 2\n",
      "[1.0, 34.0, 23.0, 34.0]\n",
      "\n",
      "\n",
      "Menú:\n",
      "1. Agregar número\n",
      "2. Mostrar lista\n",
      "3. Salir\n",
      "La opción seleccionada es: 6\n",
      "La opción no es válida\n",
      "\n",
      "\n",
      "Menú:\n",
      "1. Agregar número\n",
      "2. Mostrar lista\n",
      "3. Salir\n",
      "La opción seleccionada es: 3\n",
      "\n",
      "Adiós\n",
      "Fin del programa\n"
     ]
    }
   ],
   "source": [
    "lista = []\n",
    "\n",
    "while True:\n",
    "    print(\"\\nMenú:\")\n",
    "    print(\"1. Agregar número\")\n",
    "    print(\"2. Mostrar lista\")\n",
    "    print(\"3. Salir\")\n",
    "    \n",
    "    opcion = input(\"Seleccione una opción: \")\n",
    "    \n",
    "    print(f\"La opción seleccionada es: {opcion}\")\n",
    "\n",
    "    if opcion == \"1\":\n",
    "        x = float(input(\"Ingresa el número:\"))\n",
    "        lista.append(x)\n",
    "        print(f\"Se añadió el elemento: {x}\")\n",
    "    elif opcion == \"2\":\n",
    "        print(lista)\n",
    "    elif opcion == \"3\":\n",
    "        print()\n",
    "        print(\"Adiós\")\n",
    "        break\n",
    "    else:\n",
    "        print(\"La opción no es válida\")\n",
    "\n",
    "    print()\n",
    "\n",
    "\n",
    "print(\"Fin del programa\")"
   ]
  },
  {
   "cell_type": "markdown",
   "id": "64558962-3a79-4e4c-9884-91dd63c6f538",
   "metadata": {},
   "source": [
    "El usuario debe poder ejecutar varias opciones hasta que elija salir."
   ]
  }
 ],
 "metadata": {
  "kernelspec": {
   "display_name": "Python 3",
   "language": "python",
   "name": "python3"
  },
  "language_info": {
   "codemirror_mode": {
    "name": "ipython",
    "version": 3
   },
   "file_extension": ".py",
   "mimetype": "text/x-python",
   "name": "python",
   "nbconvert_exporter": "python",
   "pygments_lexer": "ipython3",
   "version": "3.12.4"
  }
 },
 "nbformat": 4,
 "nbformat_minor": 5
}
