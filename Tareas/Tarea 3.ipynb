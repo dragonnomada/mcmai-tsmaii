{
 "cells": [
  {
   "cell_type": "markdown",
   "id": "a2e3cde1",
   "metadata": {},
   "source": [
    "# Tarea 3\n",
    "\n",
    "#### Tópicos Selectos De Matemáticas Aplicadas II: Análisis de Datos con Python\n",
    "\n",
    "Fecha de entrega: Domingo 22 de junio "
   ]
  },
  {
   "cell_type": "markdown",
   "id": "5190a363",
   "metadata": {},
   "source": [
    "Alan Badillo Salas"
   ]
  },
  {
   "cell_type": "markdown",
   "id": "b63a23fd",
   "metadata": {},
   "source": [
    "**1.** Guarde en un Dataframe los datos de los precios de las acciones de Tesla (*TSLA.csv* en Github) y realice lo siguiente:\n",
    "\n",
    "* Obtenga el precio de cierre más alto y el precio de cierre más bajo a partir del 2020.\n",
    "\n",
    "* Obtenga las gráficas de las series de tiempo de cada año utilizando subplots.\n",
    "\n",
    "* Obtenga las gráficas de caja por mes de los precios de cierre del 2022. \n",
    "\n",
    "* ¿Los precios de cierre de todo el 2022 se distribuyen normalmente? Justifique su respuesta."
   ]
  },
  {
   "cell_type": "code",
   "execution_count": 38,
   "id": "b1c24dca",
   "metadata": {},
   "outputs": [
    {
     "data": {
      "text/html": [
       "<div>\n",
       "<style scoped>\n",
       "    .dataframe tbody tr th:only-of-type {\n",
       "        vertical-align: middle;\n",
       "    }\n",
       "\n",
       "    .dataframe tbody tr th {\n",
       "        vertical-align: top;\n",
       "    }\n",
       "\n",
       "    .dataframe thead th {\n",
       "        text-align: right;\n",
       "    }\n",
       "</style>\n",
       "<table border=\"1\" class=\"dataframe\">\n",
       "  <thead>\n",
       "    <tr style=\"text-align: right;\">\n",
       "      <th></th>\n",
       "      <th>Open</th>\n",
       "      <th>High</th>\n",
       "      <th>Low</th>\n",
       "      <th>Close</th>\n",
       "      <th>Adj Close</th>\n",
       "    </tr>\n",
       "    <tr>\n",
       "      <th>Date</th>\n",
       "      <th></th>\n",
       "      <th></th>\n",
       "      <th></th>\n",
       "      <th></th>\n",
       "      <th></th>\n",
       "    </tr>\n",
       "  </thead>\n",
       "  <tbody>\n",
       "    <tr>\n",
       "      <th>2020-01-02</th>\n",
       "      <td>28.299999</td>\n",
       "      <td>28.713333</td>\n",
       "      <td>28.114000</td>\n",
       "      <td>28.684000</td>\n",
       "      <td>28.684000</td>\n",
       "    </tr>\n",
       "    <tr>\n",
       "      <th>2020-01-03</th>\n",
       "      <td>29.366667</td>\n",
       "      <td>30.266666</td>\n",
       "      <td>29.128000</td>\n",
       "      <td>29.534000</td>\n",
       "      <td>29.534000</td>\n",
       "    </tr>\n",
       "    <tr>\n",
       "      <th>2020-01-06</th>\n",
       "      <td>29.364668</td>\n",
       "      <td>30.104000</td>\n",
       "      <td>29.333332</td>\n",
       "      <td>30.102667</td>\n",
       "      <td>30.102667</td>\n",
       "    </tr>\n",
       "    <tr>\n",
       "      <th>2020-01-07</th>\n",
       "      <td>30.760000</td>\n",
       "      <td>31.441999</td>\n",
       "      <td>30.224001</td>\n",
       "      <td>31.270666</td>\n",
       "      <td>31.270666</td>\n",
       "    </tr>\n",
       "    <tr>\n",
       "      <th>2020-01-08</th>\n",
       "      <td>31.580000</td>\n",
       "      <td>33.232666</td>\n",
       "      <td>31.215334</td>\n",
       "      <td>32.809334</td>\n",
       "      <td>32.809334</td>\n",
       "    </tr>\n",
       "  </tbody>\n",
       "</table>\n",
       "</div>"
      ],
      "text/plain": [
       "                 Open       High        Low      Close  Adj Close\n",
       "Date                                                             \n",
       "2020-01-02  28.299999  28.713333  28.114000  28.684000  28.684000\n",
       "2020-01-03  29.366667  30.266666  29.128000  29.534000  29.534000\n",
       "2020-01-06  29.364668  30.104000  29.333332  30.102667  30.102667\n",
       "2020-01-07  30.760000  31.441999  30.224001  31.270666  31.270666\n",
       "2020-01-08  31.580000  33.232666  31.215334  32.809334  32.809334"
      ]
     },
     "execution_count": 38,
     "metadata": {},
     "output_type": "execute_result"
    }
   ],
   "source": [
    "import pandas\n",
    "\n",
    "tesla = pandas.read_csv(\"tesla.csv\", index_col=0, parse_dates=True)\n",
    "\n",
    "tesla.head()"
   ]
  },
  {
   "cell_type": "code",
   "execution_count": 39,
   "id": "7db36eb1",
   "metadata": {},
   "outputs": [
    {
     "data": {
      "text/html": [
       "<div>\n",
       "<style scoped>\n",
       "    .dataframe tbody tr th:only-of-type {\n",
       "        vertical-align: middle;\n",
       "    }\n",
       "\n",
       "    .dataframe tbody tr th {\n",
       "        vertical-align: top;\n",
       "    }\n",
       "\n",
       "    .dataframe thead th {\n",
       "        text-align: right;\n",
       "    }\n",
       "</style>\n",
       "<table border=\"1\" class=\"dataframe\">\n",
       "  <thead>\n",
       "    <tr style=\"text-align: right;\">\n",
       "      <th></th>\n",
       "      <th>Open</th>\n",
       "      <th>High</th>\n",
       "      <th>Low</th>\n",
       "      <th>Close</th>\n",
       "      <th>Adj Close</th>\n",
       "    </tr>\n",
       "    <tr>\n",
       "      <th>Date</th>\n",
       "      <th></th>\n",
       "      <th></th>\n",
       "      <th></th>\n",
       "      <th></th>\n",
       "      <th></th>\n",
       "    </tr>\n",
       "  </thead>\n",
       "  <tbody>\n",
       "    <tr>\n",
       "      <th>2021-11-04</th>\n",
       "      <td>411.470001</td>\n",
       "      <td>414.496674</td>\n",
       "      <td>405.666656</td>\n",
       "      <td>409.970001</td>\n",
       "      <td>409.970001</td>\n",
       "    </tr>\n",
       "  </tbody>\n",
       "</table>\n",
       "</div>"
      ],
      "text/plain": [
       "                  Open        High         Low       Close   Adj Close\n",
       "Date                                                                  \n",
       "2021-11-04  411.470001  414.496674  405.666656  409.970001  409.970001"
      ]
     },
     "execution_count": 39,
     "metadata": {},
     "output_type": "execute_result"
    }
   ],
   "source": [
    "tesla.sort_values(by=\"Close\", ascending=False).head(1)"
   ]
  },
  {
   "cell_type": "code",
   "execution_count": 40,
   "id": "304c0aea",
   "metadata": {},
   "outputs": [
    {
     "data": {
      "text/html": [
       "<div>\n",
       "<style scoped>\n",
       "    .dataframe tbody tr th:only-of-type {\n",
       "        vertical-align: middle;\n",
       "    }\n",
       "\n",
       "    .dataframe tbody tr th {\n",
       "        vertical-align: top;\n",
       "    }\n",
       "\n",
       "    .dataframe thead th {\n",
       "        text-align: right;\n",
       "    }\n",
       "</style>\n",
       "<table border=\"1\" class=\"dataframe\">\n",
       "  <thead>\n",
       "    <tr style=\"text-align: right;\">\n",
       "      <th></th>\n",
       "      <th>Open</th>\n",
       "      <th>High</th>\n",
       "      <th>Low</th>\n",
       "      <th>Close</th>\n",
       "      <th>Adj Close</th>\n",
       "    </tr>\n",
       "    <tr>\n",
       "      <th>Date</th>\n",
       "      <th></th>\n",
       "      <th></th>\n",
       "      <th></th>\n",
       "      <th></th>\n",
       "      <th></th>\n",
       "    </tr>\n",
       "  </thead>\n",
       "  <tbody>\n",
       "    <tr>\n",
       "      <th>2020-03-18</th>\n",
       "      <td>25.933332</td>\n",
       "      <td>26.990667</td>\n",
       "      <td>23.367332</td>\n",
       "      <td>24.081333</td>\n",
       "      <td>24.081333</td>\n",
       "    </tr>\n",
       "  </tbody>\n",
       "</table>\n",
       "</div>"
      ],
      "text/plain": [
       "                 Open       High        Low      Close  Adj Close\n",
       "Date                                                             \n",
       "2020-03-18  25.933332  26.990667  23.367332  24.081333  24.081333"
      ]
     },
     "execution_count": 40,
     "metadata": {},
     "output_type": "execute_result"
    }
   ],
   "source": [
    "tesla.sort_values(by=\"Close\", ascending=True).head(1)"
   ]
  },
  {
   "cell_type": "code",
   "execution_count": 43,
   "id": "2d7e05fd",
   "metadata": {},
   "outputs": [
    {
     "data": {
      "text/plain": [
       "<Axes: xlabel='Date'>"
      ]
     },
     "execution_count": 43,
     "metadata": {},
     "output_type": "execute_result"
    },
    {
     "data": {
      "image/png": "[encoded data removed]",
      "text/plain": [
       "<Figure size 640x480 with 1 Axes>"
      ]
     },
     "metadata": {},
     "output_type": "display_data"
    }
   ],
   "source": [
    "tesla[\"Close\"].plot()"
   ]
  },
  {
   "cell_type": "code",
   "execution_count": 51,
   "id": "e1f74b6e",
   "metadata": {},
   "outputs": [
    {
     "data": {
      "text/plain": [
       "Close    Axes(0.125,0.11;0.775x0.77)\n",
       "dtype: object"
      ]
     },
     "execution_count": 51,
     "metadata": {},
     "output_type": "execute_result"
    },
    {
     "data": {
      "image/png": "[encoded data removed]",
      "text/plain": [
       "<Figure size 640x480 with 1 Axes>"
      ]
     },
     "metadata": {},
     "output_type": "display_data"
    }
   ],
   "source": [
    "tesla[\"mes\"] = tesla.index.map(lambda fecha: fecha.month)\n",
    "tesla[\"anio\"] = tesla.index.map(lambda fecha: fecha.year)\n",
    "\n",
    "tesla[tesla[\"anio\"] == 2022][[\"mes\", \"Close\"]].plot.box(\"mes\")"
   ]
  },
  {
   "cell_type": "code",
   "execution_count": 53,
   "id": "0638044d",
   "metadata": {},
   "outputs": [
    {
     "data": {
      "text/plain": [
       "<Axes: ylabel='Frequency'>"
      ]
     },
     "execution_count": 53,
     "metadata": {},
     "output_type": "execute_result"
    },
    {
     "data": {
      "image/png": "[encoded data removed]",
      "text/plain": [
       "<Figure size 640x480 with 1 Axes>"
      ]
     },
     "metadata": {},
     "output_type": "display_data"
    }
   ],
   "source": [
    "tesla[tesla[\"anio\"] == 2022][\"Close\"].plot.hist()"
   ]
  },
  {
   "cell_type": "code",
   "execution_count": 57,
   "id": "45918672",
   "metadata": {},
   "outputs": [
    {
     "data": {
      "text/plain": [
       "Close   -0.307273\n",
       "dtype: float64"
      ]
     },
     "execution_count": 57,
     "metadata": {},
     "output_type": "execute_result"
    }
   ],
   "source": [
    "tesla[tesla[\"anio\"] == 2022][[\"Close\"]].skew()"
   ]
  },
  {
   "cell_type": "code",
   "execution_count": 56,
   "id": "aaea925b",
   "metadata": {},
   "outputs": [
    {
     "data": {
      "text/plain": [
       "Close   -0.223269\n",
       "dtype: float64"
      ]
     },
     "execution_count": 56,
     "metadata": {},
     "output_type": "execute_result"
    }
   ],
   "source": [
    "tesla[tesla[\"anio\"] == 2022][[\"Close\"]].kurt()"
   ]
  },
  {
   "cell_type": "markdown",
   "id": "6b546639",
   "metadata": {},
   "source": [
    "Los precios del $2022$ no parecen distribuirse de forma normal, tienen un ligero sesgo y curtosis negativa."
   ]
  },
  {
   "cell_type": "code",
   "execution_count": 59,
   "id": "3d4e1f20",
   "metadata": {},
   "outputs": [
    {
     "name": "stdout",
     "output_type": "stream",
     "text": [
      "r-value: 0.99\n",
      "p-value: 0.02\n"
     ]
    }
   ],
   "source": [
    "from scipy.stats import shapiro\n",
    "\n",
    "r_value, p_value = shapiro(tesla[tesla[\"anio\"] == 2022][[\"Close\"]])\n",
    "\n",
    "print(f\"r-value: {r_value:.2f}\")\n",
    "print(f\"p-value: {p_value:.2f}\")"
   ]
  },
  {
   "cell_type": "markdown",
   "id": "13cd5453",
   "metadata": {},
   "source": [
    "Vemos que el p-value es menor a $0.05$ lo que sugiere rechazar la hipótesis nula $H_0$ de que los datos se distribuyen de forma normal."
   ]
  },
  {
   "cell_type": "markdown",
   "id": "ba8d680a",
   "metadata": {},
   "source": [
    "**2.** Guarde en un Dataframe los datos de los contaminantes principales de la zona centro de la CDMX durante el año 2021 (*rama2021.xlsx* en Github) y realice lo siguiente:\n",
    "\n",
    "* Obtenga las gráficas de series de tiempo de los contaminantes.\n",
    "\n",
    "* Obtenga los histogramas delos contaminantes.\n",
    "\n",
    "* Obtenga un Dataframe con el resumen de 5 números, asimetría y kurtosis para todos los contaminantes.\n",
    "\n",
    "* Obtenga los gráficos de caja de los contaminantes. ¿Cuál contaminante fué el que más detectado durante 2021?\n",
    "\n",
    "* Realice una prueba de contraste de normalidad de los datos.\n",
    "\n",
    "* De acuerdo a la prueba obtenida anteriormente. ¿Cuál es el coeficiente de correlación apropiado para obtener la correlación entre los contaminantes?\n",
    "\n",
    "* Obtenga una matríz de correlación de los contaminantes y un mapa de calor. Además, obtenga un Dataframe que muestre la correlación 2 a 2 entre los contaminantes.\n",
    "\n",
    "* Obtenga un diagrama de dispersión de los 2 contaminantes donde existe más correlación.\n",
    "\n",
    "* Obtenga una gráfica que muestre todos los diagrama de dispersión entre todos los contaminantes.\n",
    "\n",
    "* Compruebe si existe correlación entre los contaminantes y los factores meteorológicos contenidos en  *redmet_2021.csv* en Github.\n",
    "\n",
    "* Escriba son sus conclusiones.\n",
    "\n"
   ]
  },
  {
   "cell_type": "code",
   "execution_count": null,
   "id": "fd07ce19",
   "metadata": {},
   "outputs": [],
   "source": []
  }
 ],
 "metadata": {
  "kernelspec": {
   "display_name": "Python 3",
   "language": "python",
   "name": "python3"
  },
  "language_info": {
   "codemirror_mode": {
    "name": "ipython",
    "version": 3
   },
   "file_extension": ".py",
   "mimetype": "text/x-python",
   "name": "python",
   "nbconvert_exporter": "python",
   "pygments_lexer": "ipython3",
   "version": "3.12.4"
  }
 },
 "nbformat": 4,
 "nbformat_minor": 5
}
