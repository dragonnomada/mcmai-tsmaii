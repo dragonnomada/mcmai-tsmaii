{
 "cells": [
  {
   "cell_type": "markdown",
   "id": "e22399f3",
   "metadata": {},
   "source": [
    "Universidad Autónoma Metropolitana Unidad Iztapalapa (UAM-I)\n",
    "\n",
    "Maestría en Matemáticas Aplicadas e Industriales (MCMAI)\n",
    "\n",
    "Tópicos Selectos de Matemáticas Aplicadas II - Análisis de Datos con Python\n",
    "\n",
    "Trimestre 25-P\n",
    "\n",
    "Profesor: Dr. Juan Alberto Martínez Cadena\n",
    "\n",
    "Alumno Alan Badillo Salas"
   ]
  },
  {
   "cell_type": "markdown",
   "id": "033e96d9",
   "metadata": {},
   "source": [
    "# Sesión 1 - Introducción Python"
   ]
  },
  {
   "cell_type": "markdown",
   "id": "c6f11e70",
   "metadata": {},
   "source": [
    "## Ciencia de Datos\n",
    "\n",
    "Intersección entre:\n",
    "\n",
    "* **Estadística** - Herramientas de análisis\n",
    "* **Programación** - Técnicas de procesamiento\n",
    "* **Conocimiento de Campo** - Modelos y Fenómenos"
   ]
  }
 ],
 "metadata": {
  "language_info": {
   "name": "python"
  }
 },
 "nbformat": 4,
 "nbformat_minor": 5
}
