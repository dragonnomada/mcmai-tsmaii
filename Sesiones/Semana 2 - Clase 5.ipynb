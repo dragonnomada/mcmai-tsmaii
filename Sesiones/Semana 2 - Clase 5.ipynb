{
 "cells": [
  {
   "cell_type": "markdown",
   "id": "cb8b5840",
   "metadata": {},
   "source": [
    "# Manejo de matrices"
   ]
  },
  {
   "cell_type": "code",
   "execution_count": 1,
   "id": "487bede0",
   "metadata": {},
   "outputs": [],
   "source": [
    "import numpy"
   ]
  },
  {
   "cell_type": "code",
   "execution_count": 3,
   "id": "0c32364e",
   "metadata": {},
   "outputs": [],
   "source": [
    "A = numpy.array([\n",
    "    [2, 4, 6],\n",
    "    [4, 5, 7],\n",
    "    [6, 7, 9],\n",
    "])\n",
    "\n",
    "B = numpy.array([\n",
    "    [1, 2, 3],\n",
    "    [0, 1, 4],\n",
    "    [5, 6, 0],\n",
    "])"
   ]
  },
  {
   "cell_type": "code",
   "execution_count": 4,
   "id": "c749b8ab",
   "metadata": {},
   "outputs": [
    {
     "data": {
      "text/plain": [
       "array([[32, 44, 22],\n",
       "       [39, 55, 32],\n",
       "       [51, 73, 46]])"
      ]
     },
     "execution_count": 4,
     "metadata": {},
     "output_type": "execute_result"
    }
   ],
   "source": [
    "A.dot(B)"
   ]
  },
  {
   "cell_type": "code",
   "execution_count": 5,
   "id": "0cd6ac2b",
   "metadata": {},
   "outputs": [
    {
     "data": {
      "text/plain": [
       "array([[2, 4, 6],\n",
       "       [4, 5, 7],\n",
       "       [6, 7, 9]])"
      ]
     },
     "execution_count": 5,
     "metadata": {},
     "output_type": "execute_result"
    }
   ],
   "source": [
    "A.T"
   ]
  },
  {
   "cell_type": "code",
   "execution_count": 6,
   "id": "19aad438",
   "metadata": {},
   "outputs": [
    {
     "data": {
      "text/plain": [
       "array([[1, 0, 5],\n",
       "       [2, 1, 6],\n",
       "       [3, 4, 0]])"
      ]
     },
     "execution_count": 6,
     "metadata": {},
     "output_type": "execute_result"
    }
   ],
   "source": [
    "B.T"
   ]
  },
  {
   "cell_type": "code",
   "execution_count": 17,
   "id": "7ccf1c1e",
   "metadata": {},
   "outputs": [
    {
     "data": {
      "text/plain": [
       "np.int64(0)"
      ]
     },
     "execution_count": 17,
     "metadata": {},
     "output_type": "execute_result"
    }
   ],
   "source": [
    "(A != A.T).sum()"
   ]
  },
  {
   "cell_type": "code",
   "execution_count": 15,
   "id": "9ad2ec84",
   "metadata": {},
   "outputs": [
    {
     "data": {
      "text/plain": [
       "True"
      ]
     },
     "execution_count": 15,
     "metadata": {},
     "output_type": "execute_result"
    }
   ],
   "source": [
    "numpy.array_equal(A, A.T)"
   ]
  },
  {
   "cell_type": "code",
   "execution_count": 11,
   "id": "62f5d2ea",
   "metadata": {},
   "outputs": [
    {
     "data": {
      "text/plain": [
       "np.float64(0.9999999999999987)"
      ]
     },
     "execution_count": 11,
     "metadata": {},
     "output_type": "execute_result"
    }
   ],
   "source": [
    "numpy.linalg.det(B)"
   ]
  },
  {
   "cell_type": "code",
   "execution_count": 13,
   "id": "bd48ae37",
   "metadata": {},
   "outputs": [
    {
     "data": {
      "text/plain": [
       "array([[-24.,  18.,   5.],\n",
       "       [ 20., -15.,  -4.],\n",
       "       [ -5.,   4.,   1.]])"
      ]
     },
     "execution_count": 13,
     "metadata": {},
     "output_type": "execute_result"
    }
   ],
   "source": [
    "Binv = numpy.linalg.inv(B)\n",
    "\n",
    "Binv"
   ]
  },
  {
   "cell_type": "code",
   "execution_count": 21,
   "id": "9deba193",
   "metadata": {},
   "outputs": [
    {
     "data": {
      "text/plain": [
       "array([[ 1.0000000e+00,  0.0000000e+00,  0.0000000e+00],\n",
       "       [ 0.0000000e+00,  1.0000000e+00,  0.0000000e+00],\n",
       "       [ 0.0000000e+00, -8.8817842e-16,  1.0000000e+00]])"
      ]
     },
     "execution_count": 21,
     "metadata": {},
     "output_type": "execute_result"
    }
   ],
   "source": [
    "Binv.dot(B)"
   ]
  },
  {
   "cell_type": "code",
   "execution_count": 22,
   "id": "f5d5428f",
   "metadata": {},
   "outputs": [
    {
     "data": {
      "text/plain": [
       "array([[ 1.,  0.,  0.],\n",
       "       [ 0.,  1.,  0.],\n",
       "       [ 0., -0.,  1.]])"
      ]
     },
     "execution_count": 22,
     "metadata": {},
     "output_type": "execute_result"
    }
   ],
   "source": [
    "Binv.dot(B).round(0)"
   ]
  },
  {
   "cell_type": "markdown",
   "id": "780c8eeb",
   "metadata": {},
   "source": [
    "$$\n",
    "\\begin{cases}\n",
    "2 x_1 + 4 x_2 + 6 x_3 = 18 \\\\\n",
    "4 x_1 + 5 x_2 + 6 x_3 = 24 \\\\\n",
    "3 x_1 + x_2 - 2 x_3 = 4\n",
    "\\end{cases}\n",
    "$$"
   ]
  },
  {
   "cell_type": "code",
   "execution_count": 44,
   "id": "83e6786e",
   "metadata": {},
   "outputs": [],
   "source": [
    "A = numpy.array([\n",
    "    [2, 4, 6],\n",
    "    [4, 5, 6],\n",
    "    [3, 1, -2],\n",
    "])\n",
    "\n",
    "b = numpy.array([18, 24, 4])"
   ]
  },
  {
   "cell_type": "code",
   "execution_count": 45,
   "id": "ea434bb0",
   "metadata": {},
   "outputs": [
    {
     "data": {
      "text/plain": [
       "np.float64(5.999999999999997)"
      ]
     },
     "execution_count": 45,
     "metadata": {},
     "output_type": "execute_result"
    }
   ],
   "source": [
    "numpy.linalg.det(A)"
   ]
  },
  {
   "cell_type": "code",
   "execution_count": 46,
   "id": "e65daff5",
   "metadata": {},
   "outputs": [
    {
     "data": {
      "text/plain": [
       "array([ 4., -2.,  3.])"
      ]
     },
     "execution_count": 46,
     "metadata": {},
     "output_type": "execute_result"
    }
   ],
   "source": [
    "x = numpy.linalg.inv(A).dot(b)\n",
    "\n",
    "x"
   ]
  },
  {
   "cell_type": "code",
   "execution_count": 49,
   "id": "69876e01",
   "metadata": {},
   "outputs": [
    {
     "data": {
      "text/plain": [
       "(array([[18,  4,  6],\n",
       "        [24,  5,  6],\n",
       "        [ 4,  1, -2]]),\n",
       " array([[ 2,  4,  6],\n",
       "        [ 4,  5,  6],\n",
       "        [ 3,  1, -2]]))"
      ]
     },
     "execution_count": 49,
     "metadata": {},
     "output_type": "execute_result"
    }
   ],
   "source": [
    "C1 = A.copy()\n",
    "C1[:, 0] = b\n",
    "\n",
    "C1, A"
   ]
  },
  {
   "cell_type": "code",
   "execution_count": 50,
   "id": "a25d681f",
   "metadata": {},
   "outputs": [
    {
     "data": {
      "text/plain": [
       "np.float64(4.000000000000003)"
      ]
     },
     "execution_count": 50,
     "metadata": {},
     "output_type": "execute_result"
    }
   ],
   "source": [
    "x1 = numpy.linalg.det(C1) / numpy.linalg.det(A)\n",
    "\n",
    "x1"
   ]
  },
  {
   "cell_type": "code",
   "execution_count": 51,
   "id": "25dc526c",
   "metadata": {},
   "outputs": [
    {
     "data": {
      "text/plain": [
       "np.float64(-2.0000000000000018)"
      ]
     },
     "execution_count": 51,
     "metadata": {},
     "output_type": "execute_result"
    }
   ],
   "source": [
    "C2 = A.copy()\n",
    "C2[:, 1] = b\n",
    "\n",
    "x2 = numpy.linalg.det(C2) / numpy.linalg.det(A); x2"
   ]
  },
  {
   "cell_type": "code",
   "execution_count": 52,
   "id": "0b30ecb4",
   "metadata": {},
   "outputs": [
    {
     "data": {
      "text/plain": [
       "np.float64(3.000000000000001)"
      ]
     },
     "execution_count": 52,
     "metadata": {},
     "output_type": "execute_result"
    }
   ],
   "source": [
    "C3 = A.copy()\n",
    "C3[:, 2] = b\n",
    "\n",
    "x3 = numpy.linalg.det(C3) / numpy.linalg.det(A); x3"
   ]
  },
  {
   "cell_type": "markdown",
   "id": "3fabc65e",
   "metadata": {},
   "source": [
    "# Números aleatorios"
   ]
  },
  {
   "cell_type": "code",
   "execution_count": 53,
   "id": "ae6cd3f0",
   "metadata": {},
   "outputs": [],
   "source": [
    "import random"
   ]
  },
  {
   "cell_type": "code",
   "execution_count": 54,
   "id": "e4941299",
   "metadata": {},
   "outputs": [
    {
     "name": "stdout",
     "output_type": "stream",
     "text": [
      "17\n",
      "23\n",
      "11\n",
      "23\n",
      "9\n",
      "5\n",
      "25\n",
      "9\n"
     ]
    }
   ],
   "source": [
    "for i in range(8):\n",
    "    print(random.randrange(5, 27, 2))"
   ]
  },
  {
   "cell_type": "code",
   "execution_count": 55,
   "id": "0b95af1b",
   "metadata": {},
   "outputs": [
    {
     "name": "stdout",
     "output_type": "stream",
     "text": [
      "0.6564436321308289\n",
      "0.6666048319785919\n",
      "0.32039173113674246\n",
      "0.10692964724982279\n",
      "0.6757291510455532\n"
     ]
    }
   ],
   "source": [
    "for i in range(5):\n",
    "    print(random.random())"
   ]
  },
  {
   "cell_type": "code",
   "execution_count": 56,
   "id": "edc7c377",
   "metadata": {},
   "outputs": [
    {
     "name": "stdout",
     "output_type": "stream",
     "text": [
      "kiwi\n",
      "pera\n",
      "kiwi\n",
      "plátano\n",
      "mango\n"
     ]
    }
   ],
   "source": [
    "frutas = [\"pera\", \"manzana\", \"plátano\", \"kiwi\", \"mango\"]\n",
    "\n",
    "for i in range(5):\n",
    "    fruta = random.choice(frutas)\n",
    "    print(fruta)"
   ]
  },
  {
   "cell_type": "markdown",
   "id": "56d2b270",
   "metadata": {},
   "source": [
    "## Ejercicio: En 100 tiros de un dado contar cuántas veces sale 6"
   ]
  },
  {
   "cell_type": "code",
   "execution_count": 66,
   "id": "800a7f34",
   "metadata": {},
   "outputs": [
    {
     "data": {
      "text/plain": [
       "array([4, 2, 6, 2, 1, 6, 3, 4, 6, 3, 5, 5, 5, 6, 2, 4, 2, 2, 6, 4, 1, 4,\n",
       "       6, 2, 2, 1, 3, 5, 1, 2, 4, 4, 3, 6, 1, 4, 6, 5, 4, 6, 5, 2, 2, 5,\n",
       "       1, 1, 3, 1, 2, 3, 4, 1, 3, 6, 5, 4, 6, 2, 3, 1, 5, 1, 1, 4, 3, 6,\n",
       "       3, 4, 6, 3, 1, 1, 4, 2, 4, 6, 3, 3, 3, 5, 4, 2, 6, 1, 3, 6, 5, 3,\n",
       "       6, 3, 3, 4, 5, 1, 6, 5, 2, 3, 1, 6])"
      ]
     },
     "execution_count": 66,
     "metadata": {},
     "output_type": "execute_result"
    }
   ],
   "source": [
    "lanzamientos = []\n",
    "caras = [1, 2, 3, 4, 5, 6]\n",
    "\n",
    "for i in range(100):\n",
    "    cara = random.choice(caras)\n",
    "    lanzamientos.append(cara)\n",
    "\n",
    "lanzamientos = numpy.array(lanzamientos); lanzamientos"
   ]
  },
  {
   "cell_type": "code",
   "execution_count": 67,
   "id": "f23c15fe",
   "metadata": {},
   "outputs": [
    {
     "data": {
      "text/plain": [
       "np.int64(19)"
      ]
     },
     "execution_count": 67,
     "metadata": {},
     "output_type": "execute_result"
    }
   ],
   "source": [
    "(numpy.array(lanzamientos) == 6).sum()"
   ]
  },
  {
   "cell_type": "code",
   "execution_count": 68,
   "id": "c6b184d2",
   "metadata": {},
   "outputs": [],
   "source": [
    "def proceso():\n",
    "    lanzamientos = []\n",
    "    caras = [1, 2, 3, 4, 5, 6]\n",
    "\n",
    "    for i in range(100):\n",
    "        cara = random.choice(caras)\n",
    "        lanzamientos.append(cara)\n",
    "\n",
    "    lanzamientos = numpy.array(lanzamientos);\n",
    "\n",
    "    return (numpy.array(lanzamientos) == 6).sum()"
   ]
  },
  {
   "cell_type": "code",
   "execution_count": 99,
   "id": "57f6b932",
   "metadata": {},
   "outputs": [
    {
     "data": {
      "text/plain": [
       "array([16, 13, 11, 24, 23, 14, 18, 23, 15, 11, 19, 15, 18, 14, 10, 22, 13,\n",
       "       17, 14, 18, 18, 18, 17, 12, 12, 17, 14, 27, 15, 11, 20, 17, 25, 17,\n",
       "       10, 15, 10, 18, 12, 11, 20, 20,  8, 15, 19, 15, 20, 15, 10, 17, 16,\n",
       "       16, 14, 11, 14, 14, 18, 17, 12, 17, 19, 20, 20, 17, 14,  8, 22, 21,\n",
       "       15, 10, 16, 16, 18, 13, 21, 21, 15, 16, 16, 18, 18, 18, 23, 15, 18,\n",
       "       11, 24, 22, 15, 19, 19, 12, 20, 15, 17, 14,  9, 17, 16, 14, 19, 19,\n",
       "       19, 17, 17, 16, 17, 18, 11, 10, 19, 12, 17, 16, 12, 14, 17, 19, 20,\n",
       "       20, 14, 14, 18, 14, 19, 21, 21, 25, 15, 19, 18, 17, 15, 15, 13, 16,\n",
       "       13, 22, 14, 18, 20, 19, 22, 18, 12, 12, 13, 16, 15, 18, 23, 13, 11,\n",
       "       11, 12, 14, 14, 15, 18, 18, 15, 17, 16, 10, 19, 18, 16, 16, 16, 18,\n",
       "        7, 16, 15, 17, 21, 19, 23, 15, 14, 23, 16, 13, 10, 21, 16, 21, 24,\n",
       "       21, 18, 27, 19, 18, 17, 10,  8, 13, 15, 21, 15, 16])"
      ]
     },
     "execution_count": 99,
     "metadata": {},
     "output_type": "execute_result"
    }
   ],
   "source": [
    "cadena = numpy.array([proceso() for i in range(200)])\n",
    "\n",
    "cadena"
   ]
  },
  {
   "cell_type": "code",
   "execution_count": 95,
   "id": "3be491a9",
   "metadata": {},
   "outputs": [
    {
     "data": {
      "text/plain": [
       "np.float64(16.673)"
      ]
     },
     "execution_count": 95,
     "metadata": {},
     "output_type": "execute_result"
    }
   ],
   "source": [
    "cadena.mean()"
   ]
  },
  {
   "cell_type": "code",
   "execution_count": 100,
   "id": "b3cb89b2",
   "metadata": {},
   "outputs": [
    {
     "data": {
      "image/png": "[encoded data removed]",
      "text/plain": [
       "<Figure size 640x480 with 1 Axes>"
      ]
     },
     "metadata": {},
     "output_type": "display_data"
    }
   ],
   "source": [
    "import matplotlib.pyplot as pyplot\n",
    "\n",
    "pyplot.plot(cadena, marker = \".\", linestyle=\"\")\n",
    "pyplot.hlines(cadena.mean(), 0, cadena.size, color=\"red\", linestyles=\"--\", alpha=0.5)\n",
    "pyplot.show()"
   ]
  },
  {
   "cell_type": "code",
   "execution_count": 101,
   "id": "1a0a647a",
   "metadata": {},
   "outputs": [
    {
     "data": {
      "text/plain": [
       "(9.213106741667366, 24.12022659166596)"
      ]
     },
     "execution_count": 101,
     "metadata": {},
     "output_type": "execute_result"
    }
   ],
   "source": [
    "n = 100\n",
    "p = 1 / 6\n",
    "\n",
    "mu = n * p\n",
    "sigma = (n * p * (1 - p)) ** 0.5\n",
    "\n",
    "mu - 2 * sigma, mu + 2 * sigma"
   ]
  },
  {
   "cell_type": "code",
   "execution_count": 104,
   "id": "ec94c4c2",
   "metadata": {},
   "outputs": [
    {
     "data": {
      "text/plain": [
       "np.float64(0.955)"
      ]
     },
     "execution_count": 104,
     "metadata": {},
     "output_type": "execute_result"
    }
   ],
   "source": [
    "(cadena[(cadena >= mu - 2 * sigma) & (cadena <= mu + 2 * sigma)] * 0 + 1).sum() / 200"
   ]
  },
  {
   "cell_type": "markdown",
   "id": "9070dc0f",
   "metadata": {},
   "source": [
    "## Barajear o aleatorizar los datos"
   ]
  },
  {
   "cell_type": "code",
   "execution_count": 112,
   "id": "b77f22ae",
   "metadata": {},
   "outputs": [
    {
     "data": {
      "text/plain": [
       "array([ 1,  2,  3,  4,  5,  6,  7,  8,  9, 10, 11, 12, 13])"
      ]
     },
     "execution_count": 112,
     "metadata": {},
     "output_type": "execute_result"
    }
   ],
   "source": [
    "baraja = numpy.arange(13) + 1\n",
    "\n",
    "baraja"
   ]
  },
  {
   "cell_type": "code",
   "execution_count": 113,
   "id": "7b7e0b35",
   "metadata": {},
   "outputs": [
    {
     "name": "stdout",
     "output_type": "stream",
     "text": [
      "[ 5 12  8  2 13  4  6  7 10 11  1  9  3]\n",
      "[ 7  8  4  5  6  3 12 13  2 11  9 10  1]\n",
      "[ 9  8  7 12  4  6 13 11  5  2  3 10  1]\n",
      "[ 8 12  1  5  9 10  3 13  4  2  7  6 11]\n",
      "[ 7  6  9 12  5 10  3 11 13  8  2  4  1]\n"
     ]
    }
   ],
   "source": [
    "for i in range(5):\n",
    "    numpy.random.shuffle(baraja)\n",
    "    print(baraja)"
   ]
  },
  {
   "cell_type": "markdown",
   "id": "f20e5774",
   "metadata": {},
   "source": [
    "## Generar números aleatorios bajo una distribución"
   ]
  },
  {
   "cell_type": "code",
   "execution_count": 115,
   "id": "d8016cdd",
   "metadata": {},
   "outputs": [
    {
     "data": {
      "text/plain": [
       "array([[ 0.87239341, -0.37522466, -0.64238797],\n",
       "       [ 0.91126101, -1.41706416,  0.10747956],\n",
       "       [-1.17167929,  0.57136313,  0.09252353]])"
      ]
     },
     "execution_count": 115,
     "metadata": {},
     "output_type": "execute_result"
    }
   ],
   "source": [
    "sample = numpy.random.standard_normal(size=(3, 3))\n",
    "\n",
    "sample"
   ]
  },
  {
   "cell_type": "code",
   "execution_count": 124,
   "id": "b23dd073",
   "metadata": {},
   "outputs": [],
   "source": [
    "import seaborn"
   ]
  },
  {
   "cell_type": "code",
   "execution_count": 125,
   "id": "519af07e",
   "metadata": {},
   "outputs": [
    {
     "data": {
      "text/plain": [
       "<Axes: ylabel='Density'>"
      ]
     },
     "execution_count": 125,
     "metadata": {},
     "output_type": "execute_result"
    },
    {
     "data": {
      "image/png": "[encoded data removed]",
      "text/plain": [
       "<Figure size 640x480 with 1 Axes>"
      ]
     },
     "metadata": {},
     "output_type": "display_data"
    }
   ],
   "source": [
    "samples = numpy.random.normal(5, 3, 1000)\n",
    "seaborn.kdeplot(samples)"
   ]
  },
  {
   "cell_type": "code",
   "execution_count": 133,
   "id": "9d43c079",
   "metadata": {},
   "outputs": [
    {
     "data": {
      "text/plain": [
       "<Axes: ylabel='Density'>"
      ]
     },
     "execution_count": 133,
     "metadata": {},
     "output_type": "execute_result"
    },
    {
     "data": {
      "image/png": "[encoded data removed]",
      "text/plain": [
       "<Figure size 640x480 with 1 Axes>"
      ]
     },
     "metadata": {},
     "output_type": "display_data"
    }
   ],
   "source": [
    "samples = numpy.random.gamma(2, 40, 1000)\n",
    "seaborn.kdeplot(samples)"
   ]
  },
  {
   "cell_type": "markdown",
   "id": "a08503d9",
   "metadata": {},
   "source": [
    "# Funciones con arreglos"
   ]
  },
  {
   "cell_type": "code",
   "execution_count": 139,
   "id": "7dab6da8",
   "metadata": {},
   "outputs": [
    {
     "data": {
      "text/plain": [
       "200"
      ]
     },
     "execution_count": 139,
     "metadata": {},
     "output_type": "execute_result"
    }
   ],
   "source": [
    "n = 200\n",
    "\n",
    "a = 0\n",
    "b = 2 * numpy.pi\n",
    "\n",
    "delta = (b - a) / n\n",
    "\n",
    "x = numpy.arange(a, b, delta)\n",
    "\n",
    "x.size"
   ]
  },
  {
   "cell_type": "code",
   "execution_count": 142,
   "id": "f79a23e8",
   "metadata": {},
   "outputs": [
    {
     "data": {
      "text/plain": [
       "array([0.        , 0.03141593, 0.06283185, 0.09424778, 0.12566371,\n",
       "       0.15707963, 0.18849556, 0.21991149, 0.25132741, 0.28274334,\n",
       "       0.31415927, 0.34557519, 0.37699112, 0.40840704, 0.43982297,\n",
       "       0.4712389 , 0.50265482, 0.53407075, 0.56548668, 0.5969026 ,\n",
       "       0.62831853, 0.65973446, 0.69115038, 0.72256631, 0.75398224,\n",
       "       0.78539816, 0.81681409, 0.84823002, 0.87964594, 0.91106187,\n",
       "       0.9424778 , 0.97389372, 1.00530965, 1.03672558, 1.0681415 ,\n",
       "       1.09955743, 1.13097336, 1.16238928, 1.19380521, 1.22522113,\n",
       "       1.25663706, 1.28805299, 1.31946891, 1.35088484, 1.38230077,\n",
       "       1.41371669, 1.44513262, 1.47654855, 1.50796447, 1.5393804 ,\n",
       "       1.57079633, 1.60221225, 1.63362818, 1.66504411, 1.69646003,\n",
       "       1.72787596, 1.75929189, 1.79070781, 1.82212374, 1.85353967,\n",
       "       1.88495559, 1.91637152, 1.94778745, 1.97920337, 2.0106193 ,\n",
       "       2.04203522, 2.07345115, 2.10486708, 2.136283  , 2.16769893,\n",
       "       2.19911486, 2.23053078, 2.26194671, 2.29336264, 2.32477856,\n",
       "       2.35619449, 2.38761042, 2.41902634, 2.45044227, 2.4818582 ,\n",
       "       2.51327412, 2.54469005, 2.57610598, 2.6075219 , 2.63893783,\n",
       "       2.67035376, 2.70176968, 2.73318561, 2.76460154, 2.79601746,\n",
       "       2.82743339, 2.85884931, 2.89026524, 2.92168117, 2.95309709,\n",
       "       2.98451302, 3.01592895, 3.04734487, 3.0787608 , 3.11017673,\n",
       "       3.14159265, 3.17300858, 3.20442451, 3.23584043, 3.26725636,\n",
       "       3.29867229, 3.33008821, 3.36150414, 3.39292007, 3.42433599,\n",
       "       3.45575192, 3.48716785, 3.51858377, 3.5499997 , 3.58141563,\n",
       "       3.61283155, 3.64424748, 3.6756634 , 3.70707933, 3.73849526,\n",
       "       3.76991118, 3.80132711, 3.83274304, 3.86415896, 3.89557489,\n",
       "       3.92699082, 3.95840674, 3.98982267, 4.0212386 , 4.05265452,\n",
       "       4.08407045, 4.11548638, 4.1469023 , 4.17831823, 4.20973416,\n",
       "       4.24115008, 4.27256601, 4.30398194, 4.33539786, 4.36681379,\n",
       "       4.39822972, 4.42964564, 4.46106157, 4.49247749, 4.52389342,\n",
       "       4.55530935, 4.58672527, 4.6181412 , 4.64955713, 4.68097305,\n",
       "       4.71238898, 4.74380491, 4.77522083, 4.80663676, 4.83805269,\n",
       "       4.86946861, 4.90088454, 4.93230047, 4.96371639, 4.99513232,\n",
       "       5.02654825, 5.05796417, 5.0893801 , 5.12079603, 5.15221195,\n",
       "       5.18362788, 5.2150438 , 5.24645973, 5.27787566, 5.30929158,\n",
       "       5.34070751, 5.37212344, 5.40353936, 5.43495529, 5.46637122,\n",
       "       5.49778714, 5.52920307, 5.560619  , 5.59203492, 5.62345085,\n",
       "       5.65486678, 5.6862827 , 5.71769863, 5.74911456, 5.78053048,\n",
       "       5.81194641, 5.84336234, 5.87477826, 5.90619419, 5.93761012,\n",
       "       5.96902604, 6.00044197, 6.03185789, 6.06327382, 6.09468975,\n",
       "       6.12610567, 6.1575216 , 6.18893753, 6.22035345, 6.25176938])"
      ]
     },
     "execution_count": 142,
     "metadata": {},
     "output_type": "execute_result"
    }
   ],
   "source": [
    "x"
   ]
  },
  {
   "cell_type": "markdown",
   "id": "409b86a4",
   "metadata": {},
   "source": [
    "$$\n",
    "f(x) = sin(x) + cos(2 x) + tanh(x)\n",
    "$$"
   ]
  },
  {
   "cell_type": "code",
   "execution_count": 141,
   "id": "978ea763",
   "metadata": {},
   "outputs": [
    {
     "data": {
      "text/plain": [
       "array([ 1.        ,  1.06084308,  1.11765452,  1.17036528,  1.21892279,\n",
       "        1.26329131,  1.30345219,  1.33940399,  1.37116261,  1.39876123,\n",
       "        1.42225018,  1.44169674,  1.45718476,  1.46881428,  1.47670097,\n",
       "        1.48097553,  1.48178294,  1.47928173,  1.47364305,  1.46504979,\n",
       "        1.45369555,  1.43978361,  1.42352582,  1.40514152,  1.38485632,\n",
       "        1.36290098,  1.33951022,  1.31492149,  1.28937383,  1.26310665,\n",
       "        1.2363586 ,  1.20936639,  1.1823637 ,  1.15558008,  1.12923989,\n",
       "        1.10356127,  1.07875519,  1.05502453,  1.03256315,  1.0115551 ,\n",
       "        0.99217385,  0.97458152,  0.95892828,  0.94535169,  0.93397619,\n",
       "        0.92491261,  0.91825776,  0.91409404,  0.91248918,  0.91349603,\n",
       "        0.91715234,  0.92348071,  0.93248856,  0.94416814,  0.95849661,\n",
       "        0.97543625,  0.99493463,  1.01692493,  1.04132623,  1.06804396,\n",
       "        1.09697033,  1.12798482,  1.16095477,  1.19573596,  1.23217327,\n",
       "        1.2701014 ,  1.30934557,  1.34972233,  1.39104036,  1.43310131,\n",
       "        1.47570067,  1.5186287 ,  1.56167128,  1.60461094,  1.64722771,\n",
       "        1.68930016,  1.73060633,  1.77092471,  1.8100352 ,  1.84772007,\n",
       "        1.88376495,  1.91795973,  1.95009949,  1.97998544,  2.00742577,\n",
       "        2.03223651,  2.05424236,  2.07327749,  2.08918626,  2.10182398,\n",
       "        2.11105753,  2.11676604,  2.11884141,  2.1171889 ,  2.11172753,\n",
       "        2.10239056,  2.08912584,  2.07189609,  2.05067918,  2.0254683 ,\n",
       "        1.99627208,  1.96311467,  1.92603576,  1.88509047,  1.84034927,\n",
       "        1.7918978 ,  1.73983661,  1.68428087,  1.62536003,  1.56321734,\n",
       "        1.49800947,  1.4299059 ,  1.35908839,  1.28575036,  1.21009618,\n",
       "        1.13234047,  1.05270734,  0.9714296 ,  0.8887479 ,  0.8049099 ,\n",
       "        0.72016932,  0.63478508,  0.54902031,  0.46314139,  0.377417  ,\n",
       "        0.29211711,  0.20751199,  0.12387121,  0.04146263, -0.03944858,\n",
       "       -0.11860092, -0.19573754, -0.27060721, -0.34296526, -0.41257444,\n",
       "       -0.47920589, -0.54263995, -0.60266696, -0.6590881 , -0.71171611,\n",
       "       -0.760376  , -0.80490568, -0.84515661, -0.88099434, -0.91229901,\n",
       "       -0.93896581, -0.96090536, -0.97804407, -0.99032442, -0.99770514,\n",
       "       -1.00016139, -0.99768485, -0.99028376, -0.97798288, -0.96082339,\n",
       "       -0.93886274, -0.91217444, -0.88084777, -0.84498747, -0.8047133 ,\n",
       "       -0.76015961, -0.71147487, -0.65882105, -0.60237304, -0.54231801,\n",
       "       -0.47885467, -0.41219253, -0.34255116, -0.2701593 , -0.19525404,\n",
       "       -0.11807992, -0.03888804,  0.04206493,  0.12451765,  0.20820513,\n",
       "        0.29285967,  0.37821191,  0.46399178,  0.54992954,  0.63575674,\n",
       "        0.72120724,  0.80601816,  0.88993088,  0.97269196,  1.05405406,\n",
       "        1.13377685,  1.21162789,  1.28738343,  1.36082925,  1.4317614 ,\n",
       "        1.49998693,  1.56532454,  1.62760526,  1.68667298,  1.742385  ,\n",
       "        1.7946125 ,  1.84324096,  1.88817052,  1.92931627,  1.96660854])"
      ]
     },
     "execution_count": 141,
     "metadata": {},
     "output_type": "execute_result"
    }
   ],
   "source": [
    "y = numpy.sin(x) + numpy.cos(2 * x) + numpy.tanh(x)\n",
    "\n",
    "y"
   ]
  },
  {
   "cell_type": "code",
   "execution_count": 149,
   "id": "5b3ecf16",
   "metadata": {},
   "outputs": [
    {
     "data": {
      "image/png": "[encoded data removed]",
      "text/plain": [
       "<Figure size 640x480 with 1 Axes>"
      ]
     },
     "metadata": {},
     "output_type": "display_data"
    }
   ],
   "source": [
    "pyplot.plot(x, y, linestyle=\"--\", color=\"deeppink\")\n",
    "pyplot.show()"
   ]
  }
 ],
 "metadata": {
  "kernelspec": {
   "display_name": "Python 3",
   "language": "python",
   "name": "python3"
  },
  "language_info": {
   "codemirror_mode": {
    "name": "ipython",
    "version": 3
   },
   "file_extension": ".py",
   "mimetype": "text/x-python",
   "name": "python",
   "nbconvert_exporter": "python",
   "pygments_lexer": "ipython3",
   "version": "3.12.4"
  }
 },
 "nbformat": 4,
 "nbformat_minor": 5
}
