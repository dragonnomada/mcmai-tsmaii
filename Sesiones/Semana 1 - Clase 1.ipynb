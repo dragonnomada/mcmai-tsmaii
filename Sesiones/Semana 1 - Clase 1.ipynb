{
 "cells": [
  {
   "cell_type": "markdown",
   "id": "e22399f3",
   "metadata": {},
   "source": [
    "Universidad Autónoma Metropolitana Unidad Iztapalapa (UAM-I)\n",
    "\n",
    "Maestría en Matemáticas Aplicadas e Industriales (MCMAI)\n",
    "\n",
    "Tópicos Selectos de Matemáticas Aplicadas II - Análisis de Datos con Python\n",
    "\n",
    "Trimestre 25-P\n",
    "\n",
    "Profesor: Dr. Juan Alberto Martínez Cadena\n",
    "\n",
    "Alumno Alan Badillo Salas"
   ]
  },
  {
   "cell_type": "markdown",
   "id": "033e96d9",
   "metadata": {},
   "source": [
    "# Introducción Python"
   ]
  },
  {
   "cell_type": "markdown",
   "id": "c6f11e70",
   "metadata": {},
   "source": [
    "## Ciencia de Datos\n",
    "\n",
    "Intersección entre:\n",
    "\n",
    "* **Estadística** - Herramientas de análisis\n",
    "* **Programación** - Técnicas de procesamiento\n",
    "* **Conocimiento de Campo** - Modelos y Fenómenos"
   ]
  },
  {
   "cell_type": "markdown",
   "id": "42c899c4",
   "metadata": {},
   "source": [
    "## Tipos de Datos\n",
    "\n",
    "Básicos:\n",
    "\n",
    "Representan los valores fundamentales de para operar datos\n",
    "\n",
    "- **Enteros** - Clase `int` representan valores numéricos enteros, por ejemplo, `123`\n",
    "- **Decimales** - Clase `float` representan valores numéricos decimales, por ejemplo, `3.1415`\n",
    "- **Lógicos** - Clase `bool` representan valores logícos *booleanos* de verdadero o falso, por ejemplo, `True` o `False`\n",
    "- **Textos** - Clase `str` representan valores de textos, por ejemplo, `\"Hola mundo\"`, `'Adiós mundo'`\n",
    "  \n",
    "Collecciones:\n",
    "\n",
    "Representan objetos complejos capaces de almacenar múltiples valores\n",
    "\n",
    "- **Listas** - Clase `list` representan colecciones lineales, indexadas y dinámicas, por ejemplo, `[1, 2, 3]` o `[\"manzana\", \"pera\", \"kiwi\"]`\n",
    "- **Tuplas** - Clase `tuple` representan colecciones lineales, indexadas e inmutables, por ejemplo, `(1, \"manzana\", 45.6)` o `(2, \"pera\", 38.7)`\n",
    "- **Diccionarios** - Clase `dict` representan colecciones no lineales, indexadas y dinámicas, por ejemplo, `{ \"id\": 1, \"nombre\": \"manzana\", \"precio\": 45.6 }` o `{ \"id\": 2, \"nombre\": \"pera\", \"precio\": 38.7 }`"
   ]
  },
  {
   "cell_type": "markdown",
   "id": "930c3ef5",
   "metadata": {},
   "source": [
    "## Manejo de listas"
   ]
  },
  {
   "cell_type": "markdown",
   "id": "08d514f1",
   "metadata": {},
   "source": [
    "### Ejemplo de listas"
   ]
  },
  {
   "cell_type": "code",
   "execution_count": 63,
   "id": "399eedcf",
   "metadata": {},
   "outputs": [],
   "source": [
    "lista1 = [3, 4, 5]\n",
    "lista2 = [\"uno\", \"dos\", \"tres\"]\n",
    "lista3 = [\"uno\", 2, 3.14, [10, 20, 30]]"
   ]
  },
  {
   "cell_type": "markdown",
   "id": "07ae161c",
   "metadata": {},
   "source": [
    "### Acceso por índice"
   ]
  },
  {
   "cell_type": "code",
   "execution_count": 64,
   "id": "226b70c1",
   "metadata": {},
   "outputs": [
    {
     "data": {
      "text/plain": [
       "3"
      ]
     },
     "execution_count": 64,
     "metadata": {},
     "output_type": "execute_result"
    }
   ],
   "source": [
    "lista1[0]"
   ]
  },
  {
   "cell_type": "code",
   "execution_count": 65,
   "id": "276f54e7",
   "metadata": {},
   "outputs": [
    {
     "data": {
      "text/plain": [
       "'dos'"
      ]
     },
     "execution_count": 65,
     "metadata": {},
     "output_type": "execute_result"
    }
   ],
   "source": [
    "lista2[1]"
   ]
  },
  {
   "cell_type": "code",
   "execution_count": 66,
   "id": "c9beddfc",
   "metadata": {},
   "outputs": [
    {
     "data": {
      "text/plain": [
       "[10, 20, 30]"
      ]
     },
     "execution_count": 66,
     "metadata": {},
     "output_type": "execute_result"
    }
   ],
   "source": [
    "lista3[3]"
   ]
  },
  {
   "cell_type": "code",
   "execution_count": 67,
   "id": "f8ae978c",
   "metadata": {},
   "outputs": [
    {
     "data": {
      "text/plain": [
       "[3, 4]"
      ]
     },
     "execution_count": 67,
     "metadata": {},
     "output_type": "execute_result"
    }
   ],
   "source": [
    "lista1[0:2]"
   ]
  },
  {
   "cell_type": "code",
   "execution_count": 68,
   "id": "9d586215",
   "metadata": {},
   "outputs": [
    {
     "data": {
      "text/plain": [
       "[4, 5]"
      ]
     },
     "execution_count": 68,
     "metadata": {},
     "output_type": "execute_result"
    }
   ],
   "source": [
    "lista1[1:3]"
   ]
  },
  {
   "cell_type": "code",
   "execution_count": 69,
   "id": "2c07429d",
   "metadata": {},
   "outputs": [
    {
     "data": {
      "text/plain": [
       "[4, 5]"
      ]
     },
     "execution_count": 69,
     "metadata": {},
     "output_type": "execute_result"
    }
   ],
   "source": [
    "lista1[1:]"
   ]
  },
  {
   "cell_type": "code",
   "execution_count": 70,
   "id": "2f640399",
   "metadata": {},
   "outputs": [
    {
     "data": {
      "text/plain": [
       "[3, 4, 5]"
      ]
     },
     "execution_count": 70,
     "metadata": {},
     "output_type": "execute_result"
    }
   ],
   "source": [
    "lista1[:]"
   ]
  },
  {
   "cell_type": "markdown",
   "id": "515b2ff9",
   "metadata": {},
   "source": [
    "### Reemplazar elementos"
   ]
  },
  {
   "cell_type": "code",
   "execution_count": 71,
   "id": "3837f87f",
   "metadata": {},
   "outputs": [
    {
     "data": {
      "text/plain": [
       "[7, 4, 5]"
      ]
     },
     "execution_count": 71,
     "metadata": {},
     "output_type": "execute_result"
    }
   ],
   "source": [
    "lista1[0] = 7\n",
    "\n",
    "lista1"
   ]
  },
  {
   "cell_type": "code",
   "execution_count": 72,
   "id": "d78dd5bb",
   "metadata": {},
   "outputs": [
    {
     "data": {
      "text/plain": [
       "['one', 'two', 'dos', 'tres']"
      ]
     },
     "execution_count": 72,
     "metadata": {},
     "output_type": "execute_result"
    }
   ],
   "source": [
    "lista2[0:1] = [\"one\", \"two\"]\n",
    "\n",
    "lista2"
   ]
  },
  {
   "cell_type": "markdown",
   "id": "3b54b9b6",
   "metadata": {},
   "source": [
    "### Concatenación"
   ]
  },
  {
   "cell_type": "code",
   "execution_count": 73,
   "id": "8e073919",
   "metadata": {},
   "outputs": [
    {
     "data": {
      "text/plain": [
       "[7, 4, 5, 'one', 'two', 'dos', 'tres']"
      ]
     },
     "execution_count": 73,
     "metadata": {},
     "output_type": "execute_result"
    }
   ],
   "source": [
    "lista1 + lista2"
   ]
  },
  {
   "cell_type": "markdown",
   "id": "44c3475e",
   "metadata": {},
   "source": [
    "### Añadir de elementos"
   ]
  },
  {
   "cell_type": "code",
   "execution_count": 74,
   "id": "9ef14df4",
   "metadata": {},
   "outputs": [
    {
     "data": {
      "text/plain": [
       "[7, 4, 5, 6]"
      ]
     },
     "execution_count": 74,
     "metadata": {},
     "output_type": "execute_result"
    }
   ],
   "source": [
    "lista1.append(6)\n",
    "lista1"
   ]
  },
  {
   "cell_type": "markdown",
   "id": "cb8d3273",
   "metadata": {},
   "source": [
    "### Eliminar elementos"
   ]
  },
  {
   "cell_type": "code",
   "execution_count": 75,
   "id": "db2827f2",
   "metadata": {},
   "outputs": [
    {
     "data": {
      "text/plain": [
       "[7, 5, 6]"
      ]
     },
     "execution_count": 75,
     "metadata": {},
     "output_type": "execute_result"
    }
   ],
   "source": [
    "lista1.remove(4)\n",
    "\n",
    "lista1"
   ]
  },
  {
   "cell_type": "code",
   "execution_count": 76,
   "id": "a840be38",
   "metadata": {},
   "outputs": [
    {
     "data": {
      "text/plain": [
       "[7, 5]"
      ]
     },
     "execution_count": 76,
     "metadata": {},
     "output_type": "execute_result"
    }
   ],
   "source": [
    "lista1.pop()\n",
    "\n",
    "lista1"
   ]
  },
  {
   "cell_type": "code",
   "execution_count": 77,
   "id": "8bd6c5e2",
   "metadata": {},
   "outputs": [
    {
     "name": "stdout",
     "output_type": "stream",
     "text": [
      "['one', 'two', 'dos', 'tres']\n"
     ]
    },
    {
     "data": {
      "text/plain": [
       "['one', 'two', 'tres']"
      ]
     },
     "execution_count": 77,
     "metadata": {},
     "output_type": "execute_result"
    }
   ],
   "source": [
    "print(lista2)\n",
    "\n",
    "lista2.pop(2)\n",
    "\n",
    "lista2"
   ]
  },
  {
   "cell_type": "markdown",
   "id": "e7ff5bcc",
   "metadata": {},
   "source": [
    "## Manejo de textos"
   ]
  },
  {
   "cell_type": "markdown",
   "id": "d7eff6d9",
   "metadata": {},
   "source": [
    "### Cadenas multi-línea"
   ]
  },
  {
   "cell_type": "code",
   "execution_count": 78,
   "id": "b1c3fdc3",
   "metadata": {},
   "outputs": [
    {
     "data": {
      "text/plain": [
       "'\\nHola mundo\\n\\nEsta es una cadena más compleja\\n\\nBienvenido a Python 🐍\\n'"
      ]
     },
     "execution_count": 78,
     "metadata": {},
     "output_type": "execute_result"
    }
   ],
   "source": [
    "reporte = \"\"\"\n",
    "Hola mundo\n",
    "\n",
    "Esta es una cadena más compleja\n",
    "\n",
    "Bienvenido a Python 🐍\n",
    "\"\"\"\n",
    "\n",
    "reporte"
   ]
  },
  {
   "cell_type": "code",
   "execution_count": 79,
   "id": "e290b892",
   "metadata": {},
   "outputs": [
    {
     "name": "stdout",
     "output_type": "stream",
     "text": [
      "\n",
      "Hola mundo\n",
      "\n",
      "Esta es una cadena más compleja\n",
      "\n",
      "Bienvenido a Python 🐍\n",
      "\n"
     ]
    }
   ],
   "source": [
    "print(reporte)"
   ]
  },
  {
   "cell_type": "markdown",
   "id": "6873a0bd",
   "metadata": {},
   "source": [
    "### Limpiar los blancos al principio y final de una cadena"
   ]
  },
  {
   "cell_type": "code",
   "execution_count": 80,
   "id": "5501022d",
   "metadata": {},
   "outputs": [
    {
     "data": {
      "text/plain": [
       "'Hola mundo\\n\\nEsta es una cadena más compleja\\n\\nBienvenido a Python 🐍'"
      ]
     },
     "execution_count": 80,
     "metadata": {},
     "output_type": "execute_result"
    }
   ],
   "source": [
    "reporte.strip()"
   ]
  },
  {
   "cell_type": "code",
   "execution_count": 81,
   "id": "87a3df1c",
   "metadata": {},
   "outputs": [
    {
     "name": "stdout",
     "output_type": "stream",
     "text": [
      "Hola mundo\n",
      "\n",
      "Esta es una cadena más compleja\n",
      "\n",
      "Bienvenido a Python 🐍\n"
     ]
    }
   ],
   "source": [
    "print(reporte.strip())"
   ]
  },
  {
   "cell_type": "markdown",
   "id": "38c991bd",
   "metadata": {},
   "source": [
    "### Concatenar textos"
   ]
  },
  {
   "cell_type": "code",
   "execution_count": 82,
   "id": "28826692",
   "metadata": {},
   "outputs": [
    {
     "data": {
      "text/plain": [
       "'Coca Cola 45.5'"
      ]
     },
     "execution_count": 82,
     "metadata": {},
     "output_type": "execute_result"
    }
   ],
   "source": [
    "nombre = \"Coca Cola\"\n",
    "\n",
    "precio = 45.5\n",
    "\n",
    "reporte = nombre + \" \" + str(precio)\n",
    "\n",
    "reporte"
   ]
  },
  {
   "cell_type": "markdown",
   "id": "f2c8e98f",
   "metadata": {},
   "source": [
    "### Formato de textos"
   ]
  },
  {
   "cell_type": "code",
   "execution_count": 83,
   "id": "7e52d6f5",
   "metadata": {},
   "outputs": [
    {
     "data": {
      "text/plain": [
       "'Producto: Coca Cola | Precio: 45.50'"
      ]
     },
     "execution_count": 83,
     "metadata": {},
     "output_type": "execute_result"
    }
   ],
   "source": [
    "f\"Producto: {nombre} | Precio: {precio:.2f}\""
   ]
  },
  {
   "cell_type": "markdown",
   "id": "f862cfb8",
   "metadata": {},
   "source": [
    "## Operaciones binarias"
   ]
  },
  {
   "cell_type": "code",
   "execution_count": 84,
   "id": "d52a0310",
   "metadata": {},
   "outputs": [
    {
     "data": {
      "text/plain": [
       "1024"
      ]
     },
     "execution_count": 84,
     "metadata": {},
     "output_type": "execute_result"
    }
   ],
   "source": [
    "2 ** 10"
   ]
  },
  {
   "cell_type": "markdown",
   "id": "823482c7",
   "metadata": {},
   "source": [
    "### Ejemplo: Resolver la ecuación cuadrática\n",
    "\n",
    "Ecuación cuadrática general:\n",
    "\n",
    "$$\n",
    "a x^2 + b x + c = 0\n",
    "$$\n",
    "\n",
    "Soluciones generales:\n",
    "\n",
    "$$\n",
    "x_1 = \\frac{-b + \\sqrt{b^2 - 4 a c}}{2 a}\n",
    "$$\n",
    "\n",
    "$$\n",
    "x_2 = \\frac{-b - \\sqrt{b^2 - 4 a c}}{2 a}\n",
    "$$\n",
    "\n",
    "Caso particular:\n",
    "\n",
    "$$\n",
    "x^2 + x - 1 = 0\n",
    "$$"
   ]
  },
  {
   "cell_type": "code",
   "execution_count": 85,
   "id": "5793373e",
   "metadata": {},
   "outputs": [
    {
     "data": {
      "text/plain": [
       "(0.6180339887498949, -1.618033988749895)"
      ]
     },
     "execution_count": 85,
     "metadata": {},
     "output_type": "execute_result"
    }
   ],
   "source": [
    "from math import sqrt\n",
    "\n",
    "a = 1\n",
    "b = 1\n",
    "c = -1\n",
    "\n",
    "x1 = (-b + sqrt(b ** 2 - 4 * a * c)) / (2 * a)\n",
    "x2 = (-b - sqrt(b ** 2 - 4 * a * c)) / (2 * a)\n",
    "\n",
    "x1, x2"
   ]
  },
  {
   "cell_type": "markdown",
   "id": "1e328b14",
   "metadata": {},
   "source": [
    "**Nota:** `from <paquete> import <función>`"
   ]
  },
  {
   "cell_type": "code",
   "execution_count": 86,
   "id": "9ea2af20",
   "metadata": {},
   "outputs": [
    {
     "data": {
      "text/plain": [
       "(-2.8541019662496847, 3.8541019662496847)"
      ]
     },
     "execution_count": 86,
     "metadata": {},
     "output_type": "execute_result"
    }
   ],
   "source": [
    "a = -1\n",
    "b = 1\n",
    "c = 11\n",
    "\n",
    "x1 = (-b + sqrt(b ** 2 - 4 * a * c)) / (2 * a)\n",
    "x2 = (-b - sqrt(b ** 2 - 4 * a * c)) / (2 * a)\n",
    "\n",
    "x1, x2"
   ]
  },
  {
   "cell_type": "markdown",
   "id": "4ead2b00",
   "metadata": {},
   "source": [
    "### Graficar las soluciones"
   ]
  },
  {
   "cell_type": "code",
   "execution_count": 87,
   "id": "52a50e41",
   "metadata": {},
   "outputs": [
    {
     "data": {
      "image/png": "[encoded data removed]",
      "text/plain": [
       "<Figure size 640x480 with 1 Axes>"
      ]
     },
     "metadata": {},
     "output_type": "display_data"
    }
   ],
   "source": [
    "import matplotlib.pyplot as pyplot\n",
    "import numpy\n",
    "\n",
    "x = numpy.linspace(-5, 5)\n",
    "y = a * x ** 2 + b * x + c\n",
    "\n",
    "pyplot.plot(x, y)\n",
    "pyplot.plot(x, numpy.zeros(x.shape))\n",
    "pyplot.plot([x1, x1], [-10, 10], linestyle=\"--\")\n",
    "pyplot.plot([x2, x2], [-10, 10], linestyle=\"--\")\n",
    "pyplot.show()"
   ]
  },
  {
   "cell_type": "markdown",
   "id": "4639f50b",
   "metadata": {},
   "source": [
    "## Estructuras de control\n",
    "\n",
    "Permiten modificar la ejecución de las operaciones para condicionar, repetir o llamar a bloques de instrucciones.\n",
    "\n",
    "Un bloque se establece por líneas de código correctamente indentadas y de manera uniforme.\n",
    "\n",
    "Ejemplo de un bloque de instrucciones:\n",
    "\n",
    "```python\n",
    "<bloque>:\n",
    "    <línea 1>\n",
    "    <línea 2>\n",
    "    <...>\n",
    "    <línea n>\n",
    "```\n",
    "\n",
    "Podemos dentro de un bloque anidar otro bloque:\n",
    "\n",
    "```python\n",
    "<bloque 1>:\n",
    "    <línea 1.1>\n",
    "    <línea 1.2>\n",
    "    <...>\n",
    "    \n",
    "    <bloque 2>:\n",
    "        <línea 2.1>\n",
    "        <línea 2.2>\n",
    "        <...>\n",
    "        <línea 2.m>\n",
    "\n",
    "    <...>\n",
    "    <línea 1.n>\n",
    "```\n",
    "\n",
    "Cada nivel de anidación requiere aumentar los niveles de indentación."
   ]
  },
  {
   "cell_type": "markdown",
   "id": "65d555f5",
   "metadata": {},
   "source": [
    "### Condicional `if`\n",
    "\n",
    "Permite evaluar una o varias condiciones previo la ejecución del primer bloque que cumpla la condición u opcionalmente el bloque finalizador:\n",
    "\n",
    "```python\n",
    "if <condición 1>:\n",
    "    <segmento 1>\n",
    "elif <condición 2>:\n",
    "    <segmento 2>\n",
    "elif <condición ...>:\n",
    "    <segmento ...>\n",
    "elif <condición n>:\n",
    "    <segmento n>\n",
    "else:\n",
    "    <segmento falso>\n",
    "```\n",
    "\n",
    "Los componentes `elif` y `else` son opcionales y sólo puede haber un segmento falso que atrape el código cuando no se cumple ninguna condición."
   ]
  },
  {
   "cell_type": "code",
   "execution_count": 88,
   "id": "73b2c7c5",
   "metadata": {},
   "outputs": [
    {
     "name": "stdout",
     "output_type": "stream",
     "text": [
      "La raíces son complejas: (-0.5+0.8660254037844386j) (-0.5-0.8660254037844386j)\n"
     ]
    }
   ],
   "source": [
    "a = 1\n",
    "b = 1\n",
    "c = 1\n",
    "\n",
    "d = b ** 2 - 4 * a * c\n",
    "\n",
    "if d == 0:\n",
    "    x1 = -b / (2 * a)\n",
    "    print(\"Hay una única raíz:\", x1)\n",
    "elif d > 0:\n",
    "    x1 = (-b + sqrt(d)) / (2 * a)\n",
    "    x2 = (-b - sqrt(d)) / (2 * a)\n",
    "    print(\"Existen dos raíces:\", x1, x2)\n",
    "else:\n",
    "    x1 = (-b + sqrt(-d) * 1j) / (2 * a)\n",
    "    x2 = (-b - sqrt(-d) * 1j) / (2 * a)\n",
    "    print(\"La raíces son complejas:\", x1, x2)\n"
   ]
  },
  {
   "cell_type": "markdown",
   "id": "5837d33a",
   "metadata": {},
   "source": [
    "## Captura de datos\n",
    "\n",
    "Podemos capturar datos y convertirlos al formato adecuado:\n",
    "\n",
    "```python\n",
    "<valor> = <tipo>( input(<mensaje>) )\n",
    "```"
   ]
  },
  {
   "cell_type": "markdown",
   "id": "bbe729e1",
   "metadata": {},
   "source": [
    "### Calular el IMC"
   ]
  },
  {
   "cell_type": "code",
   "execution_count": 89,
   "id": "514a8420",
   "metadata": {},
   "outputs": [
    {
     "name": "stdout",
     "output_type": "stream",
     "text": [
      "El IMC (Índice de Masa Corporal) para una persona de 1.70m y 34.00kg es: 11.76\n"
     ]
    }
   ],
   "source": [
    "estatura = float(input(\"Ingresa la estatura (metros):\"))\n",
    "peso = float(input(\"Ingresa el peso (kilogramos):\"))\n",
    "\n",
    "imc = peso / estatura ** 2\n",
    "\n",
    "print(f\"El IMC (Índice de Masa Corporal) para una persona de {estatura:.2f}m y {peso:.2f}kg es: {imc:.2f}\")"
   ]
  }
 ],
 "metadata": {
  "kernelspec": {
   "display_name": "Python 3",
   "language": "python",
   "name": "python3"
  },
  "language_info": {
   "codemirror_mode": {
    "name": "ipython",
    "version": 3
   },
   "file_extension": ".py",
   "mimetype": "text/x-python",
   "name": "python",
   "nbconvert_exporter": "python",
   "pygments_lexer": "ipython3",
   "version": "3.12.4"
  }
 },
 "nbformat": 4,
 "nbformat_minor": 5
}
