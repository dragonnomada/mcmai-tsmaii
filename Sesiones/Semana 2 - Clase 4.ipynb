{
 "cells": [
  {
   "cell_type": "code",
   "execution_count": 6,
   "id": "7fe2b6df",
   "metadata": {},
   "outputs": [
    {
     "name": "stdout",
     "output_type": "stream",
     "text": [
      "La solución del sistema 3x + 2 = 0\n",
      "Es x = -0.67\n"
     ]
    }
   ],
   "source": [
    "def solucionLineal(a, b):\n",
    "    if a == 0:\n",
    "        print(\"No se puede resolver el sistema: ax + b = 0\")\n",
    "        return 0\n",
    "    return -b / a\n",
    "\n",
    "a, b = 3, 2\n",
    "x = solucionLineal(a, b)\n",
    "\n",
    "print(f\"La solución del sistema {a}x + {b} = 0\")\n",
    "print(f\"Es x = {x:.2f}\")"
   ]
  },
  {
   "cell_type": "code",
   "execution_count": 5,
   "id": "4c020f60",
   "metadata": {},
   "outputs": [
    {
     "name": "stdout",
     "output_type": "stream",
     "text": [
      "No se puede resolver el sistema: ax + b = 0\n",
      "La solución del sistema 0x + 2 = 0\n",
      "Es x = 0.00\n"
     ]
    }
   ],
   "source": [
    "a, b = 0, 2\n",
    "x = solucionLineal(a, b)\n",
    "\n",
    "print(f\"La solución del sistema {a}x + {b} = 0\")\n",
    "print(f\"Es x = {x:.2f}\")"
   ]
  }
 ],
 "metadata": {
  "kernelspec": {
   "display_name": "Python 3",
   "language": "python",
   "name": "python3"
  },
  "language_info": {
   "codemirror_mode": {
    "name": "ipython",
    "version": 3
   },
   "file_extension": ".py",
   "mimetype": "text/x-python",
   "name": "python",
   "nbconvert_exporter": "python",
   "pygments_lexer": "ipython3",
   "version": "3.12.4"
  }
 },
 "nbformat": 4,
 "nbformat_minor": 5
}
