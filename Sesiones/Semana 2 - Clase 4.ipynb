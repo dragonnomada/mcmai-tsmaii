{
 "cells": [
  {
   "cell_type": "code",
   "execution_count": 6,
   "id": "7fe2b6df",
   "metadata": {},
   "outputs": [
    {
     "name": "stdout",
     "output_type": "stream",
     "text": [
      "La solución del sistema 3x + 2 = 0\n",
      "Es x = -0.67\n"
     ]
    }
   ],
   "source": [
    "def solucionLineal(a, b):\n",
    "    if a == 0:\n",
    "        print(\"No se puede resolver el sistema: ax + b = 0\")\n",
    "        return 0\n",
    "    return -b / a\n",
    "\n",
    "a, b = 3, 2\n",
    "x = solucionLineal(a, b)\n",
    "\n",
    "print(f\"La solución del sistema {a}x + {b} = 0\")\n",
    "print(f\"Es x = {x:.2f}\")"
   ]
  },
  {
   "cell_type": "code",
   "execution_count": 5,
   "id": "4c020f60",
   "metadata": {},
   "outputs": [
    {
     "name": "stdout",
     "output_type": "stream",
     "text": [
      "No se puede resolver el sistema: ax + b = 0\n",
      "La solución del sistema 0x + 2 = 0\n",
      "Es x = 0.00\n"
     ]
    }
   ],
   "source": [
    "a, b = 0, 2\n",
    "x = solucionLineal(a, b)\n",
    "\n",
    "print(f\"La solución del sistema {a}x + {b} = 0\")\n",
    "print(f\"Es x = {x:.2f}\")"
   ]
  },
  {
   "cell_type": "code",
   "execution_count": 2,
   "id": "e6c840b1",
   "metadata": {},
   "outputs": [],
   "source": [
    "capitales = ['#Ciudad Victo*ria', 'cuerna#vaca', 'Morelia!', 'xalapa', 'Tepic', 'hermos*illo',\n",
    " 'toluca?', 'San? Luis Potosí', '*Mexicali', 'Villahermosa', 'Tuxtla Gutiérrez#',\n",
    " 'Colima', 'la Paz#', 'Guadalajara', 'C*ampeche!', 'Durango', 'Zacatecas',\n",
    " '!Chetumal', 'Ciudad# de México', 'chilpancingo*', 'Chihua#hua', '?Aguascalientes',\n",
    " 'Oaxaca de Juárez*', '?Puebla', 'Quer?étaro', 'Mérida', 'guanajuato',\n",
    " 'pachu*ca', '#Saltillo#', 'Culiacán!', 'Tlaxcala', 'monterrey']"
   ]
  },
  {
   "cell_type": "code",
   "execution_count": 1,
   "id": "827a20d2",
   "metadata": {},
   "outputs": [],
   "source": [
    "import re\n",
    "\n",
    "def limpiar(textos):\n",
    "    limpios = []\n",
    "    for texto in textos:\n",
    "        texto = texto.strip()\n",
    "        texto = re.sub(\"[!#?*]\", \"\", texto)\n",
    "        texto = texto.title()\n",
    "        limpios.append(texto)\n",
    "    return limpios"
   ]
  },
  {
   "cell_type": "code",
   "execution_count": 3,
   "id": "96a67cf4",
   "metadata": {},
   "outputs": [
    {
     "data": {
      "text/plain": [
       "['Ciudad Victoria',\n",
       " 'Cuernavaca',\n",
       " 'Morelia',\n",
       " 'Xalapa',\n",
       " 'Tepic',\n",
       " 'Hermosillo',\n",
       " 'Toluca',\n",
       " 'San Luis Potosí',\n",
       " 'Mexicali',\n",
       " 'Villahermosa',\n",
       " 'Tuxtla Gutiérrez',\n",
       " 'Colima',\n",
       " 'La Paz',\n",
       " 'Guadalajara',\n",
       " 'Campeche',\n",
       " 'Durango',\n",
       " 'Zacatecas',\n",
       " 'Chetumal',\n",
       " 'Ciudad De México',\n",
       " 'Chilpancingo',\n",
       " 'Chihuahua',\n",
       " 'Aguascalientes',\n",
       " 'Oaxaca De Juárez',\n",
       " 'Puebla',\n",
       " 'Querétaro',\n",
       " 'Mérida',\n",
       " 'Guanajuato',\n",
       " 'Pachuca',\n",
       " 'Saltillo',\n",
       " 'Culiacán',\n",
       " 'Tlaxcala',\n",
       " 'Monterrey']"
      ]
     },
     "execution_count": 3,
     "metadata": {},
     "output_type": "execute_result"
    }
   ],
   "source": [
    "limpiar(capitales)"
   ]
  },
  {
   "cell_type": "code",
   "execution_count": 6,
   "id": "e5e3e810",
   "metadata": {},
   "outputs": [
    {
     "data": {
      "text/plain": [
       "(array([1, 2, 3]), array([4, 5, 6]))"
      ]
     },
     "execution_count": 6,
     "metadata": {},
     "output_type": "execute_result"
    }
   ],
   "source": [
    "import numpy\n",
    "\n",
    "u = numpy.arange(3) + 1\n",
    "v = numpy.arange(3) + 4\n",
    "\n",
    "u, v"
   ]
  },
  {
   "cell_type": "code",
   "execution_count": 7,
   "id": "289ec5f6",
   "metadata": {},
   "outputs": [
    {
     "data": {
      "text/plain": [
       "np.int64(32)"
      ]
     },
     "execution_count": 7,
     "metadata": {},
     "output_type": "execute_result"
    }
   ],
   "source": [
    "numpy.dot(u, v)"
   ]
  },
  {
   "cell_type": "code",
   "execution_count": 8,
   "id": "f8ede192",
   "metadata": {},
   "outputs": [
    {
     "data": {
      "text/plain": [
       "(np.float64(3.7416573867739413), np.float64(8.774964387392123))"
      ]
     },
     "execution_count": 8,
     "metadata": {},
     "output_type": "execute_result"
    }
   ],
   "source": [
    "numpy.linalg.norm(u), numpy.linalg.norm(v)"
   ]
  },
  {
   "cell_type": "code",
   "execution_count": 9,
   "id": "a13e45bc",
   "metadata": {},
   "outputs": [
    {
     "data": {
      "text/plain": [
       "array([0.26726124, 0.53452248, 0.80178373])"
      ]
     },
     "execution_count": 9,
     "metadata": {},
     "output_type": "execute_result"
    }
   ],
   "source": [
    "u / numpy.linalg.norm(u)"
   ]
  },
  {
   "cell_type": "code",
   "execution_count": 10,
   "id": "e42cb576",
   "metadata": {},
   "outputs": [
    {
     "data": {
      "text/plain": [
       "array([0.45584231, 0.56980288, 0.68376346])"
      ]
     },
     "execution_count": 10,
     "metadata": {},
     "output_type": "execute_result"
    }
   ],
   "source": [
    "v / numpy.linalg.norm(v)"
   ]
  },
  {
   "cell_type": "code",
   "execution_count": 12,
   "id": "ed91cc4b",
   "metadata": {},
   "outputs": [
    {
     "data": {
      "text/plain": [
       "np.float64(5.196152422706632)"
      ]
     },
     "execution_count": 12,
     "metadata": {},
     "output_type": "execute_result"
    }
   ],
   "source": [
    "(v - u).dot((v - u)) ** 0.5"
   ]
  },
  {
   "cell_type": "code",
   "execution_count": 14,
   "id": "38b71cc0",
   "metadata": {},
   "outputs": [
    {
     "data": {
      "text/plain": [
       "np.float64(5.196152422706632)"
      ]
     },
     "execution_count": 14,
     "metadata": {},
     "output_type": "execute_result"
    }
   ],
   "source": [
    "numpy.linalg.norm(v - u)"
   ]
  },
  {
   "cell_type": "code",
   "execution_count": 15,
   "id": "c9090772",
   "metadata": {},
   "outputs": [
    {
     "data": {
      "text/plain": [
       "(np.float64(5.0), np.float64(5.0))"
      ]
     },
     "execution_count": 15,
     "metadata": {},
     "output_type": "execute_result"
    }
   ],
   "source": [
    "u = numpy.array([3, 4])\n",
    "v = numpy.array([-4, 3])\n",
    "\n",
    "nu = u.dot(u) ** 0.5\n",
    "nv = v.dot(v) ** 0.5\n",
    "\n",
    "nu, nv"
   ]
  },
  {
   "cell_type": "code",
   "execution_count": 17,
   "id": "45899248",
   "metadata": {},
   "outputs": [
    {
     "data": {
      "text/plain": [
       "np.float64(1.5707963267948966)"
      ]
     },
     "execution_count": 17,
     "metadata": {},
     "output_type": "execute_result"
    }
   ],
   "source": [
    "a = numpy.acos(u.dot(v) / (nu * nv))\n",
    "\n",
    "a"
   ]
  },
  {
   "cell_type": "code",
   "execution_count": null,
   "id": "4acebf2a",
   "metadata": {},
   "outputs": [
    {
     "data": {
      "text/plain": [
       "np.float64(90.0)"
      ]
     },
     "execution_count": 18,
     "metadata": {},
     "output_type": "execute_result"
    }
   ],
   "source": [
    "a * 180 / numpy.pi"
   ]
  },
  {
   "cell_type": "code",
   "execution_count": 19,
   "id": "4927bace",
   "metadata": {},
   "outputs": [
    {
     "data": {
      "text/plain": [
       "np.float64(90.0)"
      ]
     },
     "execution_count": 19,
     "metadata": {},
     "output_type": "execute_result"
    }
   ],
   "source": [
    "numpy.degrees(a)"
   ]
  },
  {
   "cell_type": "code",
   "execution_count": 20,
   "id": "34396af4",
   "metadata": {},
   "outputs": [
    {
     "data": {
      "text/plain": [
       "np.int64(0)"
      ]
     },
     "execution_count": 20,
     "metadata": {},
     "output_type": "execute_result"
    }
   ],
   "source": [
    "u.dot(v)"
   ]
  }
 ],
 "metadata": {
  "kernelspec": {
   "display_name": "Python 3",
   "language": "python",
   "name": "python3"
  },
  "language_info": {
   "codemirror_mode": {
    "name": "ipython",
    "version": 3
   },
   "file_extension": ".py",
   "mimetype": "text/x-python",
   "name": "python",
   "nbconvert_exporter": "python",
   "pygments_lexer": "ipython3",
   "version": "3.12.4"
  }
 },
 "nbformat": 4,
 "nbformat_minor": 5
}
