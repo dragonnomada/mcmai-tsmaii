{
 "cells": [
  {
   "cell_type": "markdown",
   "id": "2bf333c4",
   "metadata": {},
   "source": [
    "Universidad Autónoma Metropolitana Unidad Iztapalapa (UAM-I)\n",
    "\n",
    "Maestría en Matemáticas Aplicadas e Industriales (MCMAI)\n",
    "\n",
    "Tópicos Selectos de Matemáticas Aplicadas II - Análisis de Datos con Python\n",
    "\n",
    "Trimestre 25-P\n",
    "\n",
    "Profesor: Dr. Juan Alberto Martínez Cadena\n",
    "\n",
    "Alumno Alan Badillo Salas"
   ]
  },
  {
   "cell_type": "markdown",
   "id": "242f772d",
   "metadata": {},
   "source": [
    "# Condicional `if`"
   ]
  },
  {
   "cell_type": "code",
   "execution_count": 2,
   "id": "d5beff99",
   "metadata": {},
   "outputs": [
    {
     "name": "stdout",
     "output_type": "stream",
     "text": [
      "El número es positivo\n"
     ]
    }
   ],
   "source": [
    "n = int(input(\"Ingresa un número:\"))\n",
    "\n",
    "if n > 0:\n",
    "    print(\"El número es positivo\")\n",
    "elif n < 0:\n",
    "    print(\"El número es negativo\")\n",
    "else:\n",
    "    print(\"El número es cero\")"
   ]
  },
  {
   "cell_type": "markdown",
   "id": "e4351de9",
   "metadata": {},
   "source": [
    "La palabra `pass` represanta un bloque de instrucciones vacío, para ignorar un bloque o estructura."
   ]
  },
  {
   "cell_type": "code",
   "execution_count": 3,
   "id": "7f361f26",
   "metadata": {},
   "outputs": [],
   "source": [
    "x = 0\n",
    "\n",
    "if x < 0:\n",
    "    print(\"Negativo\")\n",
    "elif x == 0:\n",
    "    pass\n",
    "else:\n",
    "    print(\"Positivo\")"
   ]
  },
  {
   "cell_type": "markdown",
   "id": "7c99c377",
   "metadata": {},
   "source": [
    "## Operadores Lógicos"
   ]
  },
  {
   "cell_type": "code",
   "execution_count": 6,
   "id": "86c6f360",
   "metadata": {},
   "outputs": [],
   "source": [
    "a = 5; b = 7\n",
    "c = 1; d = 4"
   ]
  },
  {
   "cell_type": "code",
   "execution_count": 7,
   "id": "05fa5309",
   "metadata": {},
   "outputs": [
    {
     "name": "stdout",
     "output_type": "stream",
     "text": [
      "5 < 7 ^ 4 > 1\n"
     ]
    }
   ],
   "source": [
    "if a < b and d > c:\n",
    "    print(f\"{a} < {b} ^ {d} > {c}\")"
   ]
  },
  {
   "cell_type": "code",
   "execution_count": null,
   "id": "8cf39745",
   "metadata": {},
   "outputs": [
    {
     "name": "stdout",
     "output_type": "stream",
     "text": [
      "MB :D\n"
     ]
    }
   ],
   "source": [
    "calif = float(input(\"Ingresa la calificación:\"))\n",
    "\n",
    "if calif >= 0 and calif < 6:\n",
    "    print(\"NA :(\")\n",
    "elif calif >= 6 and calif < 7.6:\n",
    "    print(\"S :/\")\n",
    "elif calif >= 7.6 and calif < 8.6:\n",
    "    print(\"B :O\")\n",
    "elif calif >= 8.6 and calif <= 10:\n",
    "    print(\"MB :D\")\n",
    "else:\n",
    "    print(\"XX >:/\")"
   ]
  },
  {
   "cell_type": "code",
   "execution_count": null,
   "id": "2a418b19",
   "metadata": {},
   "outputs": [
    {
     "name": "stdout",
     "output_type": "stream",
     "text": [
      "12 * 13 = 156\n"
     ]
    }
   ],
   "source": [
    "a = int(input(\"Operando 1:\"))\n",
    "b = int(input(\"Operando 2:\"))\n",
    "op = input(\"Operador [+ | - | * | /]: \")\n",
    "\n",
    "if op == \"+\":\n",
    "    ans = a + b\n",
    "    print(f\"{a} {op} {b} = {ans}\")\n",
    "elif op == \"-\":\n",
    "    ans = a - b\n",
    "    print(f\"{a} {op} {b} = {ans}\")\n",
    "elif op == \"*\":\n",
    "    ans = a * b\n",
    "    print(f\"{a} {op} {b} = {ans}\")\n",
    "elif op == \"/\":\n",
    "    if b == 0:\n",
    "        print(\"ERROR\")\n",
    "    else:\n",
    "        ans = a / b\n",
    "        print(f\"{a} {op} {b} = {ans}\")\n",
    "else:\n",
    "    print(f\"{op} no válido\")\n"
   ]
  },
  {
   "cell_type": "markdown",
   "id": "c7781fcf",
   "metadata": {},
   "source": [
    "# Iterador `for`"
   ]
  },
  {
   "cell_type": "code",
   "execution_count": 11,
   "id": "4cd51a47",
   "metadata": {},
   "outputs": [],
   "source": [
    "L = [1, 2, None, 4, None, 5]"
   ]
  },
  {
   "cell_type": "code",
   "execution_count": 12,
   "id": "4efa0fea",
   "metadata": {},
   "outputs": [
    {
     "name": "stdout",
     "output_type": "stream",
     "text": [
      "1\n",
      "2\n",
      "None\n",
      "4\n",
      "None\n",
      "5\n"
     ]
    }
   ],
   "source": [
    "for l in L:\n",
    "    print(l)"
   ]
  },
  {
   "cell_type": "code",
   "execution_count": 15,
   "id": "fb471b75",
   "metadata": {},
   "outputs": [
    {
     "data": {
      "text/plain": [
       "12"
      ]
     },
     "execution_count": 15,
     "metadata": {},
     "output_type": "execute_result"
    }
   ],
   "source": [
    "s = 0\n",
    "\n",
    "for l in L:\n",
    "    # Si se omite ignorar los valores nulos en la lista\n",
    "    # se producirá un error\n",
    "    if l is None: \n",
    "        continue\n",
    "    s += l\n",
    "\n",
    "s"
   ]
  },
  {
   "cell_type": "markdown",
   "id": "a63ca0fc",
   "metadata": {},
   "source": [
    "## Ejemplo: Sumar hasta el 5"
   ]
  },
  {
   "cell_type": "code",
   "execution_count": 19,
   "id": "b416da40",
   "metadata": {},
   "outputs": [
    {
     "data": {
      "text/plain": [
       "13"
      ]
     },
     "execution_count": 19,
     "metadata": {},
     "output_type": "execute_result"
    }
   ],
   "source": [
    "seq = [1, 2, 0, 4, 6, 5, 2, 1]\n",
    "\n",
    "v = 0\n",
    "\n",
    "for j in seq:\n",
    "    if j == 5: \n",
    "        break\n",
    "    v += j\n",
    "\n",
    "v"
   ]
  },
  {
   "cell_type": "markdown",
   "id": "0e31212c",
   "metadata": {},
   "source": [
    "## Ejercicio: Suma de los primeros 1,000 números con `for` y `range`"
   ]
  },
  {
   "cell_type": "code",
   "execution_count": 1,
   "id": "7ae9142e",
   "metadata": {},
   "outputs": [
    {
     "data": {
      "text/plain": [
       "500500"
      ]
     },
     "execution_count": 1,
     "metadata": {},
     "output_type": "execute_result"
    }
   ],
   "source": [
    "s = 0\n",
    "\n",
    "for n in range(1, 1001):\n",
    "    s += n\n",
    "\n",
    "s"
   ]
  },
  {
   "cell_type": "markdown",
   "id": "ca40e539",
   "metadata": {},
   "source": [
    "## Ejercicio: Múltiplos de 5 de 1 a 500"
   ]
  },
  {
   "cell_type": "code",
   "execution_count": 2,
   "id": "92187e2b",
   "metadata": {},
   "outputs": [
    {
     "data": {
      "text/plain": [
       "100"
      ]
     },
     "execution_count": 2,
     "metadata": {},
     "output_type": "execute_result"
    }
   ],
   "source": [
    "total = 0\n",
    "\n",
    "for n in range(1, 501):\n",
    "    if n % 5 == 0:\n",
    "        total += 1\n",
    "\n",
    "total"
   ]
  },
  {
   "cell_type": "markdown",
   "id": "6600c65f",
   "metadata": {},
   "source": [
    "### Ejercicio: Suma de los cuadrados del 1 al 1,000"
   ]
  },
  {
   "cell_type": "code",
   "execution_count": 3,
   "id": "71873798",
   "metadata": {},
   "outputs": [
    {
     "data": {
      "text/plain": [
       "333833500"
      ]
     },
     "execution_count": 3,
     "metadata": {},
     "output_type": "execute_result"
    }
   ],
   "source": [
    "s = 0\n",
    "\n",
    "for n in range(1, 1001):\n",
    "    s += n ** 2\n",
    "\n",
    "s"
   ]
  },
  {
   "cell_type": "code",
   "execution_count": 6,
   "id": "68d2ff6f",
   "metadata": {},
   "outputs": [
    {
     "data": {
      "text/plain": [
       "333833500.0"
      ]
     },
     "execution_count": 6,
     "metadata": {},
     "output_type": "execute_result"
    }
   ],
   "source": [
    "n * (n + 1) * (2 * n + 1) / 6"
   ]
  },
  {
   "cell_type": "code",
   "execution_count": 7,
   "id": "02284544",
   "metadata": {},
   "outputs": [
    {
     "data": {
      "text/plain": [
       "333833500"
      ]
     },
     "execution_count": 7,
     "metadata": {},
     "output_type": "execute_result"
    }
   ],
   "source": [
    "L = []\n",
    "\n",
    "for n in range(1, 1001):\n",
    "    L.append(n ** 2)\n",
    "\n",
    "sum(L)"
   ]
  }
 ],
 "metadata": {
  "kernelspec": {
   "display_name": "Python 3",
   "language": "python",
   "name": "python3"
  },
  "language_info": {
   "codemirror_mode": {
    "name": "ipython",
    "version": 3
   },
   "file_extension": ".py",
   "mimetype": "text/x-python",
   "name": "python",
   "nbconvert_exporter": "python",
   "pygments_lexer": "ipython3",
   "version": "3.12.4"
  }
 },
 "nbformat": 4,
 "nbformat_minor": 5
}
